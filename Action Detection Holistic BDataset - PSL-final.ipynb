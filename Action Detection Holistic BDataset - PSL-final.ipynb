{
 "cells": [
  {
   "cell_type": "markdown",
   "metadata": {},
   "source": [
    "# 1. Import and Install Dependencies"
   ]
  },
  {
   "cell_type": "code",
   "execution_count": null,
   "metadata": {},
   "outputs": [],
   "source": []
  },
  {
   "cell_type": "code",
   "execution_count": 1,
   "metadata": {},
   "outputs": [],
   "source": [
    "import cv2\n",
    "import numpy as np\n",
    "import os\n",
    "from matplotlib import pyplot as plt\n",
    "import time\n",
    "import imutils\n",
    "import mediapipe as mp"
   ]
  },
  {
   "cell_type": "markdown",
   "metadata": {},
   "source": [
    "# 2. Keypoints using MP Holistic"
   ]
  },
  {
   "cell_type": "code",
   "execution_count": 2,
   "metadata": {},
   "outputs": [],
   "source": [
    "mp_holistic = mp.solutions.holistic # Holistic model\n",
    "mp_drawing = mp.solutions.drawing_utils # Drawing utilities"
   ]
  },
  {
   "cell_type": "code",
   "execution_count": 3,
   "metadata": {},
   "outputs": [],
   "source": [
    "def mediapipe_detection(image, model):\n",
    "    image = cv2.cvtColor(image, cv2.COLOR_BGR2RGB) # COLOR CONVERSION BGR 2 RGB\n",
    "    image.flags.writeable = False                  # Image is no longer writeable\n",
    "    results = model.process(image)                 # Make prediction\n",
    "    image.flags.writeable = True                   # Image is now writeable \n",
    "    image = cv2.cvtColor(image, cv2.COLOR_RGB2BGR) # COLOR COVERSION RGB 2 BGR\n",
    "    return image, results"
   ]
  },
  {
   "cell_type": "code",
   "execution_count": 4,
   "metadata": {},
   "outputs": [],
   "source": [
    "def draw_landmarks(image, results):\n",
    "    mp_drawing.draw_landmarks(image, results.face_landmarks, mp_holistic.FACE_CONNECTIONS) # Draw face connections\n",
    "    mp_drawing.draw_landmarks(image, results.pose_landmarks, mp_holistic.POSE_CONNECTIONS) # Draw pose connections\n",
    "    mp_drawing.draw_landmarks(image, results.left_hand_landmarks, mp_holistic.HAND_CONNECTIONS) # Draw left hand connections\n",
    "    mp_drawing.draw_landmarks(image, results.right_hand_landmarks, mp_holistic.HAND_CONNECTIONS) # Draw right hand connections"
   ]
  },
  {
   "cell_type": "code",
   "execution_count": 5,
   "metadata": {},
   "outputs": [],
   "source": [
    "def draw_styled_landmarks(image, results):\n",
    "    # Draw face connections\n",
    "    mp_drawing.draw_landmarks(image, results.face_landmarks, mp_holistic.FACE_CONNECTIONS, \n",
    "                             mp_drawing.DrawingSpec(color=(80,110,10), thickness=1, circle_radius=1), \n",
    "                             mp_drawing.DrawingSpec(color=(80,256,121), thickness=1, circle_radius=1)\n",
    "                             ) \n",
    "    # Draw pose connections\n",
    "    mp_drawing.draw_landmarks(image, results.pose_landmarks, mp_holistic.POSE_CONNECTIONS,\n",
    "                             mp_drawing.DrawingSpec(color=(80,22,10), thickness=2, circle_radius=4), \n",
    "                             mp_drawing.DrawingSpec(color=(80,44,121), thickness=2, circle_radius=2)\n",
    "                             ) \n",
    "    # Draw left hand connections\n",
    "    mp_drawing.draw_landmarks(image, results.left_hand_landmarks, mp_holistic.HAND_CONNECTIONS, \n",
    "                             mp_drawing.DrawingSpec(color=(121,22,76), thickness=2, circle_radius=4), \n",
    "                             mp_drawing.DrawingSpec(color=(121,44,250), thickness=2, circle_radius=2)\n",
    "                             ) \n",
    "    # Draw right hand connections  \n",
    "    mp_drawing.draw_landmarks(image, results.right_hand_landmarks, mp_holistic.HAND_CONNECTIONS, \n",
    "                             mp_drawing.DrawingSpec(color=(245,117,66), thickness=2, circle_radius=4), \n",
    "                             mp_drawing.DrawingSpec(color=(245,66,230), thickness=2, circle_radius=2)\n",
    "                             ) "
   ]
  },
  {
   "cell_type": "code",
   "execution_count": 6,
   "metadata": {},
   "outputs": [
    {
     "name": "stdout",
     "output_type": "stream",
     "text": [
      "000 - Copy.mp4\n",
      "ASLdata\\000 - Copy.mp4\n",
      "True\n",
      "000.mp4\n",
      "ASLdata\\000.mp4\n",
      "True\n",
      "013_004_005.mp4\n",
      "ASLdata\\013_004_005.mp4\n",
      "True\n"
     ]
    },
    {
     "ename": "KeyboardInterrupt",
     "evalue": "",
     "output_type": "error",
     "traceback": [
      "\u001b[1;31m---------------------------------------------------------------------------\u001b[0m",
      "\u001b[1;31mKeyboardInterrupt\u001b[0m                         Traceback (most recent call last)",
      "\u001b[1;32m<ipython-input-6-91b8b06cfce1>\u001b[0m in \u001b[0;36m<module>\u001b[1;34m\u001b[0m\n\u001b[0;32m     16\u001b[0m                     \u001b[1;31m#frame= imutils.resize(frame, width=520, height=420)\u001b[0m\u001b[1;33m\u001b[0m\u001b[1;33m\u001b[0m\u001b[1;33m\u001b[0m\u001b[0m\n\u001b[0;32m     17\u001b[0m                 \u001b[1;31m# Make detections\u001b[0m\u001b[1;33m\u001b[0m\u001b[1;33m\u001b[0m\u001b[1;33m\u001b[0m\u001b[0m\n\u001b[1;32m---> 18\u001b[1;33m                     \u001b[0mframe\u001b[0m\u001b[1;33m=\u001b[0m \u001b[0mimutils\u001b[0m\u001b[1;33m.\u001b[0m\u001b[0mresize\u001b[0m\u001b[1;33m(\u001b[0m\u001b[0mframe\u001b[0m\u001b[1;33m,\u001b[0m \u001b[0mwidth\u001b[0m\u001b[1;33m=\u001b[0m\u001b[1;36m920\u001b[0m\u001b[1;33m,\u001b[0m \u001b[0mheight\u001b[0m\u001b[1;33m=\u001b[0m\u001b[1;36m920\u001b[0m\u001b[1;33m)\u001b[0m\u001b[1;33m\u001b[0m\u001b[1;33m\u001b[0m\u001b[0m\n\u001b[0m\u001b[0;32m     19\u001b[0m                     \u001b[0mimage\u001b[0m\u001b[1;33m,\u001b[0m \u001b[0mresults\u001b[0m \u001b[1;33m=\u001b[0m \u001b[0mmediapipe_detection\u001b[0m\u001b[1;33m(\u001b[0m\u001b[0mframe\u001b[0m\u001b[1;33m,\u001b[0m \u001b[0mholistic\u001b[0m\u001b[1;33m)\u001b[0m\u001b[1;33m\u001b[0m\u001b[1;33m\u001b[0m\u001b[0m\n\u001b[0;32m     20\u001b[0m                     \u001b[1;31m#print(results)\u001b[0m\u001b[1;33m\u001b[0m\u001b[1;33m\u001b[0m\u001b[1;33m\u001b[0m\u001b[0m\n",
      "\u001b[1;32m~\\anaconda3\\lib\\site-packages\\imutils\\convenience.py\u001b[0m in \u001b[0;36mresize\u001b[1;34m(image, width, height, inter)\u001b[0m\n\u001b[0;32m     89\u001b[0m \u001b[1;33m\u001b[0m\u001b[0m\n\u001b[0;32m     90\u001b[0m     \u001b[1;31m# resize the image\u001b[0m\u001b[1;33m\u001b[0m\u001b[1;33m\u001b[0m\u001b[1;33m\u001b[0m\u001b[0m\n\u001b[1;32m---> 91\u001b[1;33m     \u001b[0mresized\u001b[0m \u001b[1;33m=\u001b[0m \u001b[0mcv2\u001b[0m\u001b[1;33m.\u001b[0m\u001b[0mresize\u001b[0m\u001b[1;33m(\u001b[0m\u001b[0mimage\u001b[0m\u001b[1;33m,\u001b[0m \u001b[0mdim\u001b[0m\u001b[1;33m,\u001b[0m \u001b[0minterpolation\u001b[0m\u001b[1;33m=\u001b[0m\u001b[0minter\u001b[0m\u001b[1;33m)\u001b[0m\u001b[1;33m\u001b[0m\u001b[1;33m\u001b[0m\u001b[0m\n\u001b[0m\u001b[0;32m     92\u001b[0m \u001b[1;33m\u001b[0m\u001b[0m\n\u001b[0;32m     93\u001b[0m     \u001b[1;31m# return the resized image\u001b[0m\u001b[1;33m\u001b[0m\u001b[1;33m\u001b[0m\u001b[1;33m\u001b[0m\u001b[0m\n",
      "\u001b[1;31mKeyboardInterrupt\u001b[0m: "
     ]
    }
   ],
   "source": [
    "DATASET_PATH = os.path.join(\"ASLdata\") \n",
    "for file in os.listdir(\"ASLdata\"):\n",
    "    print(file)\n",
    "    if file.endswith(\".mp4\"):\n",
    "        path=os.path.join('ASLdata', file)\n",
    "        print(path)        \n",
    "        cap = cv2.VideoCapture(path)\n",
    "        print(cap.isOpened())\n",
    "# Set mediapipe model \n",
    "        with mp_holistic.Holistic(min_detection_confidence=0.5, min_tracking_confidence=0.5) as holistic:\n",
    "            while cap.isOpened():\n",
    "                ret, frame= cap.read()\n",
    "                #frame = frame1[5:400, 6:400]\n",
    "                if ret==True:\n",
    "                    #print(frame)\n",
    "                    #frame= imutils.resize(frame, width=520, height=420)\n",
    "                # Make detections\n",
    "                    frame= imutils.resize(frame, width=920, height=920)\n",
    "                    image, results = mediapipe_detection(frame, holistic)\n",
    "                    #print(results)\n",
    "                    cv2.waitKey(5)\n",
    "                    # Draw landmarks\n",
    "                    draw_styled_landmarks(image, results)\n",
    "\n",
    "                    # Showq to screen\n",
    "                    cv2.imshow('OpenCV Feed', image)\n",
    "                    if cv2.waitKey(10) & 0xFF == ord('q'):\n",
    "                        break \n",
    "                else:\n",
    "                    break\n",
    "\n",
    "    else:\n",
    "        break\n",
    "        \n",
    "    cap.release()\n",
    "    cv2.destroyAllWindows()"
   ]
  },
  {
   "cell_type": "code",
   "execution_count": 7,
   "metadata": {},
   "outputs": [],
   "source": [
    "cap.release()\n",
    "cv2.destroyAllWindows()"
   ]
  },
  {
   "cell_type": "code",
   "execution_count": 9,
   "metadata": {},
   "outputs": [
    {
     "data": {
      "text/plain": [
       "mediapipe.python.solution_base.SolutionOutputs"
      ]
     },
     "execution_count": 9,
     "metadata": {},
     "output_type": "execute_result"
    }
   ],
   "source": [
    "results"
   ]
  },
  {
   "cell_type": "code",
   "execution_count": 10,
   "metadata": {},
   "outputs": [],
   "source": [
    "draw_landmarks(frame, results)"
   ]
  },
  {
   "cell_type": "code",
   "execution_count": 11,
   "metadata": {},
   "outputs": [
    {
     "data": {
      "text/plain": [
       "<matplotlib.image.AxesImage at 0x2448018aa90>"
      ]
     },
     "execution_count": 11,
     "metadata": {},
     "output_type": "execute_result"
    },
    {
     "data": {
      "image/png": "[encoded data removed]",
      "text/plain": [
       "<Figure size 432x288 with 1 Axes>"
      ]
     },
     "metadata": {
      "needs_background": "light"
     },
     "output_type": "display_data"
    }
   ],
   "source": [
    "plt.imshow(cv2.cvtColor(frame, cv2.COLOR_BGR2RGB))"
   ]
  },
  {
   "cell_type": "markdown",
   "metadata": {},
   "source": [
    "# 3. Extract Keypoint Values"
   ]
  },
  {
   "cell_type": "code",
   "execution_count": 12,
   "metadata": {},
   "outputs": [],
   "source": [
    "#len(results.left_hand_landmarks.landmark)"
   ]
  },
  {
   "cell_type": "code",
   "execution_count": 13,
   "metadata": {},
   "outputs": [
    {
     "name": "stdout",
     "output_type": "stream",
     "text": [
      "x: 0.44191989302635193\n",
      "y: 0.29112622141838074\n",
      "z: -0.6238438487052917\n",
      "visibility: 0.9999191761016846\n",
      "\n",
      "x: 0.4559953510761261\n",
      "y: 0.2507003843784332\n",
      "z: -0.5843108296394348\n",
      "visibility: 0.9998465776443481\n",
      "\n",
      "x: 0.46388864517211914\n",
      "y: 0.2519422173500061\n",
      "z: -0.5846277475357056\n",
      "visibility: 0.9998332262039185\n",
      "\n",
      "x: 0.4719058871269226\n",
      "y: 0.253052681684494\n",
      "z: -0.5848536491394043\n",
      "visibility: 0.9998035430908203\n",
      "\n",
      "x: 0.4282183349132538\n",
      "y: 0.2480592131614685\n",
      "z: -0.5837916731834412\n",
      "visibility: 0.999849796295166\n",
      "\n",
      "x: 0.4187179505825043\n",
      "y: 0.2476312220096588\n",
      "z: -0.5838882327079773\n",
      "visibility: 0.9998639225959778\n",
      "\n",
      "x: 0.40908923745155334\n",
      "y: 0.24707256257534027\n",
      "z: -0.5839901566505432\n",
      "visibility: 0.9998660087585449\n",
      "\n",
      "x: 0.48603421449661255\n",
      "y: 0.27257901430130005\n",
      "z: -0.3146567940711975\n",
      "visibility: 0.9998618364334106\n",
      "\n",
      "x: 0.39720308780670166\n",
      "y: 0.2664191722869873\n",
      "z: -0.31441962718963623\n",
      "visibility: 0.999915361404419\n",
      "\n",
      "x: 0.459037721157074\n",
      "y: 0.33432579040527344\n",
      "z: -0.523472249507904\n",
      "visibility: 0.9999727606773376\n",
      "\n",
      "x: 0.4241847097873688\n",
      "y: 0.3305118978023529\n",
      "z: -0.5221464037895203\n",
      "visibility: 0.9999769330024719\n",
      "\n",
      "x: 0.5470629930496216\n",
      "y: 0.49770888686180115\n",
      "z: -0.15025140345096588\n",
      "visibility: 0.9998683333396912\n",
      "\n",
      "x: 0.32442596554756165\n",
      "y: 0.47185462713241577\n",
      "z: -0.1501564383506775\n",
      "visibility: 0.9999393224716187\n",
      "\n",
      "x: 0.6120206117630005\n",
      "y: 0.7925965785980225\n",
      "z: -0.32093197107315063\n",
      "visibility: 0.9940680861473083\n",
      "\n",
      "x: 0.26916950941085815\n",
      "y: 0.7581470012664795\n",
      "z: -0.29131650924682617\n",
      "visibility: 0.9921796321868896\n",
      "\n",
      "x: 0.5230274200439453\n",
      "y: 0.7630438208580017\n",
      "z: -0.7605931162834167\n",
      "visibility: 0.9647906422615051\n",
      "\n",
      "x: 0.3268687427043915\n",
      "y: 0.757656991481781\n",
      "z: -0.7993066906929016\n",
      "visibility: 0.9720210433006287\n",
      "\n",
      "x: 0.49856629967689514\n",
      "y: 0.7792684435844421\n",
      "z: -0.8634526133537292\n",
      "visibility: 0.9087762832641602\n",
      "\n",
      "x: 0.34323203563690186\n",
      "y: 0.7930243015289307\n",
      "z: -0.908887505531311\n",
      "visibility: 0.9380029439926147\n",
      "\n",
      "x: 0.4844343960285187\n",
      "y: 0.7601355314254761\n",
      "z: -0.8607451319694519\n",
      "visibility: 0.9110239148139954\n",
      "\n",
      "x: 0.36230289936065674\n",
      "y: 0.7597724199295044\n",
      "z: -0.9140136241912842\n",
      "visibility: 0.9411877393722534\n",
      "\n",
      "x: 0.48836612701416016\n",
      "y: 0.7516200542449951\n",
      "z: -0.7693166136741638\n",
      "visibility: 0.8960174322128296\n",
      "\n",
      "x: 0.3620324432849884\n",
      "y: 0.7429396510124207\n",
      "z: -0.8139045238494873\n",
      "visibility: 0.9361386299133301\n",
      "\n",
      "x: 0.49403679370880127\n",
      "y: 1.0105476379394531\n",
      "z: 0.009110038168728352\n",
      "visibility: 0.8144201040267944\n",
      "\n",
      "x: 0.3527061343193054\n",
      "y: 0.997150719165802\n",
      "z: -0.006514875218272209\n",
      "visibility: 0.8587139844894409\n",
      "\n",
      "x: 0.49477067589759827\n",
      "y: 1.4191159009933472\n",
      "z: -0.16885434091091156\n",
      "visibility: 0.017888976261019707\n",
      "\n",
      "x: 0.3487565517425537\n",
      "y: 1.4114785194396973\n",
      "z: -0.23597733676433563\n",
      "visibility: 0.019726993516087532\n",
      "\n",
      "x: 0.48138830065727234\n",
      "y: 1.7724148035049438\n",
      "z: 0.16480857133865356\n",
      "visibility: 0.0010941947111859918\n",
      "\n",
      "x: 0.34776821732521057\n",
      "y: 1.7704681158065796\n",
      "z: 0.26632222533226013\n",
      "visibility: 0.0010738424025475979\n",
      "\n",
      "x: 0.4816383719444275\n",
      "y: 1.817573070526123\n",
      "z: 0.1848747879266739\n",
      "visibility: 0.000850193144287914\n",
      "\n",
      "x: 0.34352540969848633\n",
      "y: 1.819053292274475\n",
      "z: 0.3016856908798218\n",
      "visibility: 0.0007942782831378281\n",
      "\n",
      "x: 0.46088606119155884\n",
      "y: 1.9015969038009644\n",
      "z: -0.10791366547346115\n",
      "visibility: 0.0014800510834902525\n",
      "\n",
      "x: 0.3683127760887146\n",
      "y: 1.8912990093231201\n",
      "z: -0.0055021136067807674\n",
      "visibility: 0.0013911579735577106\n",
      "\n"
     ]
    }
   ],
   "source": [
    "pose = []\n",
    "for res in results.pose_landmarks.landmark:\n",
    "    print(res)\n",
    "    test = np.array([res.x, res.y, res.z, res.visibility])\n",
    "    pose.append(test)"
   ]
  },
  {
   "cell_type": "code",
   "execution_count": 14,
   "metadata": {},
   "outputs": [
    {
     "name": "stdout",
     "output_type": "stream",
     "text": [
      "[ 4.41919893e-01  2.91126221e-01 -6.23843849e-01  9.99919176e-01\n",
      "  4.55995351e-01  2.50700384e-01 -5.84310830e-01  9.99846578e-01\n",
      "  4.63888645e-01  2.51942217e-01 -5.84627748e-01  9.99833226e-01\n",
      "  4.71905887e-01  2.53052682e-01 -5.84853649e-01  9.99803543e-01\n",
      "  4.28218335e-01  2.48059213e-01 -5.83791673e-01  9.99849796e-01\n",
      "  4.18717951e-01  2.47631222e-01 -5.83888233e-01  9.99863923e-01\n",
      "  4.09089237e-01  2.47072563e-01 -5.83990157e-01  9.99866009e-01\n",
      "  4.86034214e-01  2.72579014e-01 -3.14656794e-01  9.99861836e-01\n",
      "  3.97203088e-01  2.66419172e-01 -3.14419627e-01  9.99915361e-01\n",
      "  4.59037721e-01  3.34325790e-01 -5.23472250e-01  9.99972761e-01\n",
      "  4.24184710e-01  3.30511898e-01 -5.22146404e-01  9.99976933e-01\n",
      "  5.47062993e-01  4.97708887e-01 -1.50251403e-01  9.99868333e-01\n",
      "  3.24425966e-01  4.71854627e-01 -1.50156438e-01  9.99939322e-01\n",
      "  6.12020612e-01  7.92596579e-01 -3.20931971e-01  9.94068086e-01\n",
      "  2.69169509e-01  7.58147001e-01 -2.91316509e-01  9.92179632e-01\n",
      "  5.23027420e-01  7.63043821e-01 -7.60593116e-01  9.64790642e-01\n",
      "  3.26868743e-01  7.57656991e-01 -7.99306691e-01  9.72021043e-01\n",
      "  4.98566300e-01  7.79268444e-01 -8.63452613e-01  9.08776283e-01\n",
      "  3.43232036e-01  7.93024302e-01 -9.08887506e-01  9.38002944e-01\n",
      "  4.84434396e-01  7.60135531e-01 -8.60745132e-01  9.11023915e-01\n",
      "  3.62302899e-01  7.59772420e-01 -9.14013624e-01  9.41187739e-01\n",
      "  4.88366127e-01  7.51620054e-01 -7.69316614e-01  8.96017432e-01\n",
      "  3.62032443e-01  7.42939651e-01 -8.13904524e-01  9.36138630e-01\n",
      "  4.94036794e-01  1.01054764e+00  9.11003817e-03  8.14420104e-01\n",
      "  3.52706134e-01  9.97150719e-01 -6.51487522e-03  8.58713984e-01\n",
      "  4.94770676e-01  1.41911590e+00 -1.68854341e-01  1.78889763e-02\n",
      "  3.48756552e-01  1.41147852e+00 -2.35977337e-01  1.97269935e-02\n",
      "  4.81388301e-01  1.77241480e+00  1.64808571e-01  1.09419471e-03\n",
      "  3.47768217e-01  1.77046812e+00  2.66322225e-01  1.07384240e-03\n",
      "  4.81638372e-01  1.81757307e+00  1.84874788e-01  8.50193144e-04\n",
      "  3.43525410e-01  1.81905329e+00  3.01685691e-01  7.94278283e-04\n",
      "  4.60886061e-01  1.90159690e+00 -1.07913665e-01  1.48005108e-03\n",
      "  3.68312776e-01  1.89129901e+00 -5.50211361e-03  1.39115797e-03]\n"
     ]
    }
   ],
   "source": [
    "pose = np.array([[res.x, res.y, res.z, res.visibility] for res in results.pose_landmarks.landmark]).flatten() if results.pose_landmarks else np.zeros(132)\n",
    "print(pose)\n",
    "face = np.array([[res.x, res.y, res.z] for res in results.face_landmarks.landmark]).flatten() if results.face_landmarks else np.zeros(1404)\n",
    "lh = np.array([[res.x, res.y, res.z] for res in results.left_hand_landmarks.landmark]).flatten() if results.left_hand_landmarks else np.zeros(21*3)\n",
    "rh = np.array([[res.x, res.y, res.z] for res in results.right_hand_landmarks.landmark]).flatten() if results.right_hand_landmarks else np.zeros(21*3)"
   ]
  },
  {
   "cell_type": "code",
   "execution_count": 15,
   "metadata": {},
   "outputs": [],
   "source": [
    "face = np.array([[res.x, res.y, res.z] for res in results.face_landmarks.landmark]).flatten() if results.face_landmarks else np.zeros(1404)\n"
   ]
  },
  {
   "cell_type": "code",
   "execution_count": 16,
   "metadata": {},
   "outputs": [],
   "source": [
    "def extract_keypoints(results):\n",
    "    pose = np.array([[res.x, res.y, res.z, res.visibility] for res in results.pose_landmarks.landmark]).flatten() if results.pose_landmarks else np.zeros(33*4)\n",
    "    face = np.array([[res.x, res.y, res.z] for res in results.face_landmarks.landmark]).flatten() if results.face_landmarks else np.zeros(468*3)\n",
    "    lh = np.array([[res.x, res.y, res.z] for res in results.left_hand_landmarks.landmark]).flatten() if results.left_hand_landmarks else np.zeros(21*3)\n",
    "    rh = np.array([[res.x, res.y, res.z] for res in results.right_hand_landmarks.landmark]).flatten() if results.right_hand_landmarks else np.zeros(21*3)\n",
    "    return np.concatenate([pose, lh, rh])"
   ]
  },
  {
   "cell_type": "code",
   "execution_count": 17,
   "metadata": {},
   "outputs": [],
   "source": [
    "result_test = extract_keypoints(results)"
   ]
  },
  {
   "cell_type": "code",
   "execution_count": 18,
   "metadata": {},
   "outputs": [
    {
     "data": {
      "text/plain": [
       "array([ 4.41919893e-01,  2.91126221e-01, -6.23843849e-01,  9.99919176e-01,\n",
       "        4.55995351e-01,  2.50700384e-01, -5.84310830e-01,  9.99846578e-01,\n",
       "        4.63888645e-01,  2.51942217e-01, -5.84627748e-01,  9.99833226e-01,\n",
       "        4.71905887e-01,  2.53052682e-01, -5.84853649e-01,  9.99803543e-01,\n",
       "        4.28218335e-01,  2.48059213e-01, -5.83791673e-01,  9.99849796e-01,\n",
       "        4.18717951e-01,  2.47631222e-01, -5.83888233e-01,  9.99863923e-01,\n",
       "        4.09089237e-01,  2.47072563e-01, -5.83990157e-01,  9.99866009e-01,\n",
       "        4.86034214e-01,  2.72579014e-01, -3.14656794e-01,  9.99861836e-01,\n",
       "        3.97203088e-01,  2.66419172e-01, -3.14419627e-01,  9.99915361e-01,\n",
       "        4.59037721e-01,  3.34325790e-01, -5.23472250e-01,  9.99972761e-01,\n",
       "        4.24184710e-01,  3.30511898e-01, -5.22146404e-01,  9.99976933e-01,\n",
       "        5.47062993e-01,  4.97708887e-01, -1.50251403e-01,  9.99868333e-01,\n",
       "        3.24425966e-01,  4.71854627e-01, -1.50156438e-01,  9.99939322e-01,\n",
       "        6.12020612e-01,  7.92596579e-01, -3.20931971e-01,  9.94068086e-01,\n",
       "        2.69169509e-01,  7.58147001e-01, -2.91316509e-01,  9.92179632e-01,\n",
       "        5.23027420e-01,  7.63043821e-01, -7.60593116e-01,  9.64790642e-01,\n",
       "        3.26868743e-01,  7.57656991e-01, -7.99306691e-01,  9.72021043e-01,\n",
       "        4.98566300e-01,  7.79268444e-01, -8.63452613e-01,  9.08776283e-01,\n",
       "        3.43232036e-01,  7.93024302e-01, -9.08887506e-01,  9.38002944e-01,\n",
       "        4.84434396e-01,  7.60135531e-01, -8.60745132e-01,  9.11023915e-01,\n",
       "        3.62302899e-01,  7.59772420e-01, -9.14013624e-01,  9.41187739e-01,\n",
       "        4.88366127e-01,  7.51620054e-01, -7.69316614e-01,  8.96017432e-01,\n",
       "        3.62032443e-01,  7.42939651e-01, -8.13904524e-01,  9.36138630e-01,\n",
       "        4.94036794e-01,  1.01054764e+00,  9.11003817e-03,  8.14420104e-01,\n",
       "        3.52706134e-01,  9.97150719e-01, -6.51487522e-03,  8.58713984e-01,\n",
       "        4.94770676e-01,  1.41911590e+00, -1.68854341e-01,  1.78889763e-02,\n",
       "        3.48756552e-01,  1.41147852e+00, -2.35977337e-01,  1.97269935e-02,\n",
       "        4.81388301e-01,  1.77241480e+00,  1.64808571e-01,  1.09419471e-03,\n",
       "        3.47768217e-01,  1.77046812e+00,  2.66322225e-01,  1.07384240e-03,\n",
       "        4.81638372e-01,  1.81757307e+00,  1.84874788e-01,  8.50193144e-04,\n",
       "        3.43525410e-01,  1.81905329e+00,  3.01685691e-01,  7.94278283e-04,\n",
       "        4.60886061e-01,  1.90159690e+00, -1.07913665e-01,  1.48005108e-03,\n",
       "        3.68312776e-01,  1.89129901e+00, -5.50211361e-03,  1.39115797e-03,\n",
       "        5.28095245e-01,  7.50075161e-01,  3.26688350e-05,  5.03177404e-01,\n",
       "        7.42698193e-01,  1.07679386e-02,  4.80808467e-01,  7.60092676e-01,\n",
       "       -1.06074661e-03,  4.67111796e-01,  7.92793334e-01, -1.51941786e-02,\n",
       "        4.59362119e-01,  8.25068295e-01, -2.87016965e-02,  4.73695964e-01,\n",
       "        7.31132150e-01, -3.43896747e-02,  4.54207182e-01,  7.67867088e-01,\n",
       "       -4.60593551e-02,  4.55181926e-01,  7.93641508e-01, -4.19649258e-02,\n",
       "        4.60543573e-01,  8.08246672e-01, -3.53583619e-02,  4.85259891e-01,\n",
       "        7.38048196e-01, -4.58442755e-02,  4.66594785e-01,  7.96567261e-01,\n",
       "       -5.22098653e-02,  4.73685563e-01,  8.14494491e-01, -3.72742377e-02,\n",
       "        4.79578584e-01,  8.13633561e-01, -2.76139434e-02,  4.99249160e-01,\n",
       "        7.52592981e-01, -5.61521053e-02,  4.83617008e-01,  8.13767374e-01,\n",
       "       -5.47456741e-02,  4.91686106e-01,  8.18519056e-01, -3.81344743e-02,\n",
       "        4.97086942e-01,  8.05952489e-01, -2.97781043e-02,  5.12437522e-01,\n",
       "        7.70191431e-01, -6.57231659e-02,  4.99986649e-01,  8.14449310e-01,\n",
       "       -5.90588525e-02,  5.04148901e-01,  8.15076470e-01, -4.54215705e-02,\n",
       "        5.07637501e-01,  8.04627955e-01, -3.78648229e-02,  3.24861199e-01,\n",
       "        7.49885619e-01, -2.62807298e-05,  3.48128647e-01,  7.36012578e-01,\n",
       "       -1.18282270e-02,  3.68454874e-01,  7.44686127e-01, -3.24982479e-02,\n",
       "        3.81057262e-01,  7.64586508e-01, -5.01596704e-02,  3.89669776e-01,\n",
       "        7.80320823e-01, -6.75753281e-02,  3.66851300e-01,  7.26682425e-01,\n",
       "       -7.03356192e-02,  3.81936967e-01,  7.56066024e-01, -9.89470854e-02,\n",
       "        3.90964717e-01,  7.82810688e-01, -1.08912379e-01,  3.98752868e-01,\n",
       "        8.04550827e-01, -1.12523131e-01,  3.52163643e-01,  7.37762451e-01,\n",
       "       -7.44256526e-02,  3.68344456e-01,  7.79654980e-01, -9.93218571e-02,\n",
       "        3.78305465e-01,  8.06965411e-01, -9.78777185e-02,  3.85515958e-01,\n",
       "        8.25659871e-01, -9.63946059e-02,  3.38006645e-01,  7.54706144e-01,\n",
       "       -7.76738599e-02,  3.53917807e-01,  7.95376182e-01, -9.84131545e-02,\n",
       "        3.65489334e-01,  8.19645226e-01, -9.86493006e-02,  3.74147415e-01,\n",
       "        8.36953640e-01, -9.85279083e-02,  3.26647401e-01,  7.75627911e-01,\n",
       "       -8.09728578e-02,  3.39851469e-01,  8.06551754e-01, -9.59705412e-02,\n",
       "        3.50399852e-01,  8.25403988e-01, -1.00190021e-01,  3.58667523e-01,\n",
       "        8.38677883e-01, -1.05209537e-01])"
      ]
     },
     "execution_count": 18,
     "metadata": {},
     "output_type": "execute_result"
    }
   ],
   "source": [
    "result_test"
   ]
  },
  {
   "cell_type": "code",
   "execution_count": 19,
   "metadata": {},
   "outputs": [
    {
     "data": {
      "text/plain": [
       "258"
      ]
     },
     "execution_count": 19,
     "metadata": {},
     "output_type": "execute_result"
    }
   ],
   "source": [
    "33*4+21*3+21*3"
   ]
  },
  {
   "cell_type": "code",
   "execution_count": 20,
   "metadata": {},
   "outputs": [],
   "source": [
    "np.save('0', result_test)"
   ]
  },
  {
   "cell_type": "code",
   "execution_count": 21,
   "metadata": {},
   "outputs": [
    {
     "data": {
      "text/plain": [
       "array([ 4.41919893e-01,  2.91126221e-01, -6.23843849e-01,  9.99919176e-01,\n",
       "        4.55995351e-01,  2.50700384e-01, -5.84310830e-01,  9.99846578e-01,\n",
       "        4.63888645e-01,  2.51942217e-01, -5.84627748e-01,  9.99833226e-01,\n",
       "        4.71905887e-01,  2.53052682e-01, -5.84853649e-01,  9.99803543e-01,\n",
       "        4.28218335e-01,  2.48059213e-01, -5.83791673e-01,  9.99849796e-01,\n",
       "        4.18717951e-01,  2.47631222e-01, -5.83888233e-01,  9.99863923e-01,\n",
       "        4.09089237e-01,  2.47072563e-01, -5.83990157e-01,  9.99866009e-01,\n",
       "        4.86034214e-01,  2.72579014e-01, -3.14656794e-01,  9.99861836e-01,\n",
       "        3.97203088e-01,  2.66419172e-01, -3.14419627e-01,  9.99915361e-01,\n",
       "        4.59037721e-01,  3.34325790e-01, -5.23472250e-01,  9.99972761e-01,\n",
       "        4.24184710e-01,  3.30511898e-01, -5.22146404e-01,  9.99976933e-01,\n",
       "        5.47062993e-01,  4.97708887e-01, -1.50251403e-01,  9.99868333e-01,\n",
       "        3.24425966e-01,  4.71854627e-01, -1.50156438e-01,  9.99939322e-01,\n",
       "        6.12020612e-01,  7.92596579e-01, -3.20931971e-01,  9.94068086e-01,\n",
       "        2.69169509e-01,  7.58147001e-01, -2.91316509e-01,  9.92179632e-01,\n",
       "        5.23027420e-01,  7.63043821e-01, -7.60593116e-01,  9.64790642e-01,\n",
       "        3.26868743e-01,  7.57656991e-01, -7.99306691e-01,  9.72021043e-01,\n",
       "        4.98566300e-01,  7.79268444e-01, -8.63452613e-01,  9.08776283e-01,\n",
       "        3.43232036e-01,  7.93024302e-01, -9.08887506e-01,  9.38002944e-01,\n",
       "        4.84434396e-01,  7.60135531e-01, -8.60745132e-01,  9.11023915e-01,\n",
       "        3.62302899e-01,  7.59772420e-01, -9.14013624e-01,  9.41187739e-01,\n",
       "        4.88366127e-01,  7.51620054e-01, -7.69316614e-01,  8.96017432e-01,\n",
       "        3.62032443e-01,  7.42939651e-01, -8.13904524e-01,  9.36138630e-01,\n",
       "        4.94036794e-01,  1.01054764e+00,  9.11003817e-03,  8.14420104e-01,\n",
       "        3.52706134e-01,  9.97150719e-01, -6.51487522e-03,  8.58713984e-01,\n",
       "        4.94770676e-01,  1.41911590e+00, -1.68854341e-01,  1.78889763e-02,\n",
       "        3.48756552e-01,  1.41147852e+00, -2.35977337e-01,  1.97269935e-02,\n",
       "        4.81388301e-01,  1.77241480e+00,  1.64808571e-01,  1.09419471e-03,\n",
       "        3.47768217e-01,  1.77046812e+00,  2.66322225e-01,  1.07384240e-03,\n",
       "        4.81638372e-01,  1.81757307e+00,  1.84874788e-01,  8.50193144e-04,\n",
       "        3.43525410e-01,  1.81905329e+00,  3.01685691e-01,  7.94278283e-04,\n",
       "        4.60886061e-01,  1.90159690e+00, -1.07913665e-01,  1.48005108e-03,\n",
       "        3.68312776e-01,  1.89129901e+00, -5.50211361e-03,  1.39115797e-03,\n",
       "        5.28095245e-01,  7.50075161e-01,  3.26688350e-05,  5.03177404e-01,\n",
       "        7.42698193e-01,  1.07679386e-02,  4.80808467e-01,  7.60092676e-01,\n",
       "       -1.06074661e-03,  4.67111796e-01,  7.92793334e-01, -1.51941786e-02,\n",
       "        4.59362119e-01,  8.25068295e-01, -2.87016965e-02,  4.73695964e-01,\n",
       "        7.31132150e-01, -3.43896747e-02,  4.54207182e-01,  7.67867088e-01,\n",
       "       -4.60593551e-02,  4.55181926e-01,  7.93641508e-01, -4.19649258e-02,\n",
       "        4.60543573e-01,  8.08246672e-01, -3.53583619e-02,  4.85259891e-01,\n",
       "        7.38048196e-01, -4.58442755e-02,  4.66594785e-01,  7.96567261e-01,\n",
       "       -5.22098653e-02,  4.73685563e-01,  8.14494491e-01, -3.72742377e-02,\n",
       "        4.79578584e-01,  8.13633561e-01, -2.76139434e-02,  4.99249160e-01,\n",
       "        7.52592981e-01, -5.61521053e-02,  4.83617008e-01,  8.13767374e-01,\n",
       "       -5.47456741e-02,  4.91686106e-01,  8.18519056e-01, -3.81344743e-02,\n",
       "        4.97086942e-01,  8.05952489e-01, -2.97781043e-02,  5.12437522e-01,\n",
       "        7.70191431e-01, -6.57231659e-02,  4.99986649e-01,  8.14449310e-01,\n",
       "       -5.90588525e-02,  5.04148901e-01,  8.15076470e-01, -4.54215705e-02,\n",
       "        5.07637501e-01,  8.04627955e-01, -3.78648229e-02,  3.24861199e-01,\n",
       "        7.49885619e-01, -2.62807298e-05,  3.48128647e-01,  7.36012578e-01,\n",
       "       -1.18282270e-02,  3.68454874e-01,  7.44686127e-01, -3.24982479e-02,\n",
       "        3.81057262e-01,  7.64586508e-01, -5.01596704e-02,  3.89669776e-01,\n",
       "        7.80320823e-01, -6.75753281e-02,  3.66851300e-01,  7.26682425e-01,\n",
       "       -7.03356192e-02,  3.81936967e-01,  7.56066024e-01, -9.89470854e-02,\n",
       "        3.90964717e-01,  7.82810688e-01, -1.08912379e-01,  3.98752868e-01,\n",
       "        8.04550827e-01, -1.12523131e-01,  3.52163643e-01,  7.37762451e-01,\n",
       "       -7.44256526e-02,  3.68344456e-01,  7.79654980e-01, -9.93218571e-02,\n",
       "        3.78305465e-01,  8.06965411e-01, -9.78777185e-02,  3.85515958e-01,\n",
       "        8.25659871e-01, -9.63946059e-02,  3.38006645e-01,  7.54706144e-01,\n",
       "       -7.76738599e-02,  3.53917807e-01,  7.95376182e-01, -9.84131545e-02,\n",
       "        3.65489334e-01,  8.19645226e-01, -9.86493006e-02,  3.74147415e-01,\n",
       "        8.36953640e-01, -9.85279083e-02,  3.26647401e-01,  7.75627911e-01,\n",
       "       -8.09728578e-02,  3.39851469e-01,  8.06551754e-01, -9.59705412e-02,\n",
       "        3.50399852e-01,  8.25403988e-01, -1.00190021e-01,  3.58667523e-01,\n",
       "        8.38677883e-01, -1.05209537e-01])"
      ]
     },
     "execution_count": 21,
     "metadata": {},
     "output_type": "execute_result"
    }
   ],
   "source": [
    "np.load('0.npy')"
   ]
  },
  {
   "cell_type": "markdown",
   "metadata": {},
   "source": [
    "# 4. Setup Folders for Collection"
   ]
  },
  {
   "cell_type": "code",
   "execution_count": 22,
   "metadata": {},
   "outputs": [],
   "source": [
    "# Path for exported data, numpy arrays\n",
    "DATA_PATH = os.path.join('MP_Data_psl_f_2') \n",
    "\n",
    "# Actions that we try to detect\n",
    "actions = np.array(['Act', 'Angry', 'Before', 'Birthday', 'Car', 'Child', 'Congratulation', 'Drink', 'Education', 'Food', 'Friend', 'Good', 'Happy', 'Hello', 'Job', 'Market', 'Mother', 'Pakistan', 'Restaurant', 'Tahnk you'])\n",
    "# Thirty videos worth of data\n",
    "no_sequences = 40\n",
    "\n",
    "# Videos are going to be 30 frames in length\n",
    "sequence_length = 3"
   ]
  },
  {
   "cell_type": "code",
   "execution_count": 32,
   "metadata": {},
   "outputs": [],
   "source": [
    "# train\n",
    "# Path for exported data, numpy arrays\n",
    "DATA_PATH2 = os.path.join('MP_Data_psl_demotest') \n",
    "\n",
    "# Actions that we try to detect\n",
    "actions = np.array(['Act', 'Angry', 'Before', 'Birthday', 'Car', 'Child', 'Congratulation', 'Drink', 'Education', 'Food', 'Friend', 'Good', 'Happy', 'Hello', 'Job', 'Market', 'Mother', 'Pakistan', 'Restaurant', 'Tahnk you'])\n",
    "# Thirty videos worth of data\n",
    "no_sequences = 1\n",
    "\n",
    "# Videos are going to be 30 frames in length\n",
    "sequence_length = 3"
   ]
  },
  {
   "cell_type": "code",
   "execution_count": 164,
   "metadata": {},
   "outputs": [],
   "source": [
    "for action in actions: \n",
    "    for sequence in range(no_sequences):\n",
    "        try: \n",
    "            os.makedirs(os.path.join(DATA_PATH, action, str(sequence)))\n",
    "        except:\n",
    "            pass"
   ]
  },
  {
   "cell_type": "code",
   "execution_count": 368,
   "metadata": {},
   "outputs": [],
   "source": [
    "#train\n",
    "\n",
    "for action in actions: \n",
    "    for sequence in range(no_sequences):\n",
    "        try: \n",
    "            os.makedirs(os.path.join(DATA_PATH2, action, str(sequence)))\n",
    "        except:\n",
    "            pass"
   ]
  },
  {
   "cell_type": "markdown",
   "metadata": {},
   "source": [
    "# 5. Collect Keypoint Values for Training and Testing"
   ]
  },
  {
   "cell_type": "code",
   "execution_count": 369,
   "metadata": {},
   "outputs": [
    {
     "name": "stdout",
     "output_type": "stream",
     "text": [
      "TestingDataset\\Act\n",
      "act41.mp4\n",
      "0\n",
      "TestingDataset\\Angry\n",
      "WhatsApp Video 2022-03-17 at 5.36.44 AM.mp4\n",
      "2\n",
      "TestingDataset\\Before\n",
      "WhatsApp Video 2022-03-17 at 5.36.35 AM.mp4\n",
      "2\n",
      "TestingDataset\\Birthday\n",
      "WhatsApp Video 2022-03-17 at 5.36.31 AM.mp4\n",
      "2\n",
      "TestingDataset\\Car\n",
      "WhatsApp Video 2022-03-17 at 4.40.36 AM.mp4\n",
      "2\n",
      "TestingDataset\\Child\n",
      "WhatsApp Video 2022-03-17 at 5.36.23 AM.mp4\n",
      "2\n",
      "TestingDataset\\Congratulation\n",
      "WhatsApp Video 2022-03-17 at 5.36.22 AM.mp4\n",
      "2\n",
      "TestingDataset\\Drink\n",
      "WhatsApp Video 2022-03-17 at 4.40.44 AM.mp4\n",
      "2\n",
      "TestingDataset\\Education\n",
      "WhatsApp Video 2022-03-17 at 4.40.55 AM.mp4\n",
      "2\n",
      "TestingDataset\\Food\n",
      "WhatsApp Video 2022-03-17 at 4.41.02 AM.mp4\n",
      "2\n",
      "TestingDataset\\Friend\n",
      "WhatsApp Video 2022-03-17 at 4.41.00 AM.mp4\n",
      "2\n",
      "TestingDataset\\Good\n",
      "WhatsApp Video 2022-03-16 at 11.06.36 AM (4).mp4\n",
      "2\n",
      "TestingDataset\\Happy\n",
      "happy28.mp4\n",
      "2\n",
      "TestingDataset\\Hello\n",
      "WhatsApp Video 2022-03-16 at 11.06.36 AM (1).mp4\n",
      "2\n",
      "TestingDataset\\Job\n",
      "WhatsApp Video 2022-03-16 at 11.06.36 AM (2).mp4\n",
      "2\n",
      "TestingDataset\\Market\n",
      "WhatsApp Video 2022-03-16 at 11.06.36 AM (3).mp4\n",
      "2\n",
      "TestingDataset\\Mother\n",
      "WhatsApp Video 2022-03-17 at 5.36.12 AM.mp4\n",
      "2\n",
      "TestingDataset\\Pakistan\n",
      "WhatsApp Video 2022-03-17 at 5.36.07 AM.mp4\n",
      "2\n",
      "TestingDataset\\Restaurant\n",
      "WhatsApp Video 2022-03-17 at 5.35.56 AM.mp4\n",
      "2\n",
      "TestingDataset\\Thank You\n",
      "WhatsApp Video 2022-03-17 at 5.35.54 AM.mp4\n",
      "2\n"
     ]
    }
   ],
   "source": [
    "DATASET_PATH = os.path.join(\"TestingDataset\") \n",
    "for file, action in zip(os.listdir(\"TestingDataset\"),actions):\n",
    "    print(os.path.join(\"TestingDataset\", file))\n",
    "    for file2, sequence2 in zip(os.listdir(os.path.join(DATASET_PATH, file)),range(no_sequences)):\n",
    "        print(file2)\n",
    "        print(sequence)\n",
    "        if file2.endswith(\".mp4\"):\n",
    "            pathroot=os.path.join(DATASET_PATH, file)\n",
    "            path=os.path.join(pathroot, file2)\n",
    "            #print(path)        \n",
    "            cap = cv2.VideoCapture(path)\n",
    "        # Set mediapipe model \n",
    "            with mp_holistic.Holistic(min_detection_confidence=0.9, min_tracking_confidence=0.9) as holistic: \n",
    "\n",
    "                for sequence in range(sequence_length):\n",
    "                    # Loop through video length aka sequence length\n",
    "                    for frame_num in range(20):\n",
    "\n",
    "                        # Read feed\n",
    "                        ret, frame = cap.read()\n",
    "                        if ret==True:\n",
    "                        # Make detections\n",
    "                            frame= imutils.resize(frame, width=920, height=920)\n",
    "                            image, results = mediapipe_detection(frame, holistic)\n",
    "            #                 print(results)\n",
    "\n",
    "                            # Draw landmarks\n",
    "                            draw_styled_landmarks(image, results)\n",
    "\n",
    "                            # NEW Apply wait logic\n",
    "                            if frame_num == 0: \n",
    "                                cv2.putText(image, 'STARTING COLLECTION', (120,200), \n",
    "                                           cv2.FONT_HERSHEY_SIMPLEX, 1, (0,255, 0), 4, cv2.LINE_AA)\n",
    "                                cv2.putText(image, 'Collecting frames for {} Frame Number {}'.format(action, sequence), (15,12), \n",
    "                                           cv2.FONT_HERSHEY_SIMPLEX, 0.5, (0, 0, 255), 1, cv2.LINE_AA)\n",
    "                                # Show to screen\n",
    "                                cv2.imshow('OpenCV Feed', image)\n",
    "                                #cv2.waitKey(1000)\n",
    "                            else: \n",
    "                                cv2.putText(image, 'Collecting frames for {} Frame Number {}'.format(action, sequence), (15,12), \n",
    "                                           cv2.FONT_HERSHEY_SIMPLEX, 0.5, (0, 0, 255), 1, cv2.LINE_AA)\n",
    "                                # Show to screen\n",
    "                                cv2.imshow('OpenCV Feed', image)\n",
    "\n",
    "                            # NEW Export keypoints\n",
    "                            #print(results.multi_hand_landmarks)\n",
    "                            keypoints = extract_keypoints(results)\n",
    "                            #print(np.array(keypoints).size)\n",
    "                            npy_path = os.path.join(DATA_PATH2, action, str(sequence2), str(sequence))\n",
    "                            np.save(npy_path, keypoints)\n",
    "\n",
    "                            # Break gracefully\n",
    "                            if cv2.waitKey(15) & 0xFF == ord('q'):\n",
    "                                break\n",
    "\n",
    "            cap.release()\n",
    "            cv2.destroyAllWindows()\n",
    "                "
   ]
  },
  {
   "cell_type": "code",
   "execution_count": 370,
   "metadata": {},
   "outputs": [],
   "source": [
    "cap.release()\n",
    "cv2.destroyAllWindows()"
   ]
  },
  {
   "cell_type": "markdown",
   "metadata": {},
   "source": [
    "# 6. Preprocess Data and Create Labels and Features"
   ]
  },
  {
   "cell_type": "code",
   "execution_count": 24,
   "metadata": {},
   "outputs": [],
   "source": [
    "from sklearn.model_selection import train_test_split\n",
    "from tensorflow.keras.utils import to_categorical"
   ]
  },
  {
   "cell_type": "code",
   "execution_count": 25,
   "metadata": {},
   "outputs": [],
   "source": [
    "label_map = {label:num for num, label in enumerate(actions)}"
   ]
  },
  {
   "cell_type": "code",
   "execution_count": 26,
   "metadata": {},
   "outputs": [
    {
     "data": {
      "text/plain": [
       "{'Act': 0,\n",
       " 'Angry': 1,\n",
       " 'Before': 2,\n",
       " 'Birthday': 3,\n",
       " 'Car': 4,\n",
       " 'Child': 5,\n",
       " 'Congratulation': 6,\n",
       " 'Drink': 7,\n",
       " 'Education': 8,\n",
       " 'Food': 9,\n",
       " 'Friend': 10,\n",
       " 'Good': 11,\n",
       " 'Happy': 12,\n",
       " 'Hello': 13,\n",
       " 'Job': 14,\n",
       " 'Market': 15,\n",
       " 'Mother': 16,\n",
       " 'Pakistan': 17,\n",
       " 'Restaurant': 18,\n",
       " 'Tahnk you': 19}"
      ]
     },
     "execution_count": 26,
     "metadata": {},
     "output_type": "execute_result"
    }
   ],
   "source": [
    "label_map"
   ]
  },
  {
   "cell_type": "code",
   "execution_count": 31,
   "metadata": {
    "scrolled": true
   },
   "outputs": [],
   "source": [
    "sequences, labels = [], []\n",
    "for action in actions:\n",
    "    for sequence in range(40):\n",
    "        window = []\n",
    "        for frame_num in range(sequence_length):\n",
    "            res = np.load(os.path.join(DATA_PATH, action, str(sequence), \"{}.npy\".format(frame_num)))\n",
    "            #print(np.array(res).size)\n",
    "            window.append(res)\n",
    "            #print(window)\n",
    "        sequences.append(window)\n",
    "        #print(sequences)\n",
    "        labels.append(label_map[action])"
   ]
  },
  {
   "cell_type": "code",
   "execution_count": 33,
   "metadata": {},
   "outputs": [],
   "source": [
    "#train\n",
    "sequences2, labels2 = [], []\n",
    "for action in actions:\n",
    "    for sequence in range(no_sequences):\n",
    "        window = []\n",
    "        for frame_num in range(sequence_length):\n",
    "            res = np.load(os.path.join(DATA_PATH2, action, str(sequence), \"{}.npy\".format(frame_num)))\n",
    "            #print(np.array(res).size)\n",
    "            window.append(res)\n",
    "            #print(window)\n",
    "        sequences2.append(window)\n",
    "        #print(sequences)\n",
    "        labels2.append(label_map[action])"
   ]
  },
  {
   "cell_type": "code",
   "execution_count": 34,
   "metadata": {},
   "outputs": [
    {
     "data": {
      "text/plain": [
       "(800, 3, 258)"
      ]
     },
     "execution_count": 34,
     "metadata": {},
     "output_type": "execute_result"
    }
   ],
   "source": [
    "np.array(sequences).shape"
   ]
  },
  {
   "cell_type": "code",
   "execution_count": 35,
   "metadata": {},
   "outputs": [
    {
     "data": {
      "text/plain": [
       "(20, 3, 258)"
      ]
     },
     "execution_count": 35,
     "metadata": {},
     "output_type": "execute_result"
    }
   ],
   "source": [
    "np.array(sequences2).shape"
   ]
  },
  {
   "cell_type": "code",
   "execution_count": 36,
   "metadata": {},
   "outputs": [
    {
     "data": {
      "text/plain": [
       "(800,)"
      ]
     },
     "execution_count": 36,
     "metadata": {},
     "output_type": "execute_result"
    }
   ],
   "source": [
    "np.array(labels).shape"
   ]
  },
  {
   "cell_type": "code",
   "execution_count": 37,
   "metadata": {},
   "outputs": [
    {
     "data": {
      "text/plain": [
       "(20,)"
      ]
     },
     "execution_count": 37,
     "metadata": {},
     "output_type": "execute_result"
    }
   ],
   "source": [
    "np.array(labels2).shape"
   ]
  },
  {
   "cell_type": "code",
   "execution_count": 38,
   "metadata": {},
   "outputs": [],
   "source": [
    "X = np.array(sequences)\n",
    "xT=np.array(sequences2)"
   ]
  },
  {
   "cell_type": "code",
   "execution_count": 39,
   "metadata": {},
   "outputs": [],
   "source": [
    "yT = to_categorical(labels2).astype(int)"
   ]
  },
  {
   "cell_type": "code",
   "execution_count": 40,
   "metadata": {},
   "outputs": [],
   "source": [
    "y = to_categorical(labels).astype(int)"
   ]
  },
  {
   "cell_type": "code",
   "execution_count": 41,
   "metadata": {},
   "outputs": [],
   "source": [
    "X_train=X\n",
    "y_train=y\n",
    "X_test=xT\n",
    "y_test=yT"
   ]
  },
  {
   "cell_type": "code",
   "execution_count": 42,
   "metadata": {},
   "outputs": [
    {
     "data": {
      "text/plain": [
       "(800, 20)"
      ]
     },
     "execution_count": 42,
     "metadata": {},
     "output_type": "execute_result"
    }
   ],
   "source": [
    "y.shape"
   ]
  },
  {
   "cell_type": "code",
   "execution_count": 43,
   "metadata": {},
   "outputs": [
    {
     "data": {
      "text/plain": [
       "(20, 20)"
      ]
     },
     "execution_count": 43,
     "metadata": {},
     "output_type": "execute_result"
    }
   ],
   "source": [
    "y_test.shape\n",
    "#y_test.shape"
   ]
  },
  {
   "cell_type": "markdown",
   "metadata": {},
   "source": [
    "# 7. Build and Train LSTM Neural Network"
   ]
  },
  {
   "cell_type": "code",
   "execution_count": 52,
   "metadata": {},
   "outputs": [],
   "source": [
    "from tensorflow.keras.models import Sequential\n",
    "from tensorflow.keras.layers import LSTM, Dense\n",
    "from tensorflow.keras.callbacks import TensorBoard"
   ]
  },
  {
   "cell_type": "code",
   "execution_count": 53,
   "metadata": {},
   "outputs": [],
   "source": [
    "log_dir = os.path.join('Logs')\n",
    "tb_callback = TensorBoard(log_dir=log_dir)"
   ]
  },
  {
   "cell_type": "code",
   "execution_count": 54,
   "metadata": {},
   "outputs": [],
   "source": [
    "model = Sequential()\n",
    "model.add(LSTM(64, return_sequences=True, activation='relu', input_shape=(3, 258)))\n",
    "model.add(LSTM(128, return_sequences=True, activation='relu'))\n",
    "model.add(LSTM(64, return_sequences=False, activation='relu'))\n",
    "model.add(Dense(64, activation='relu'))\n",
    "model.add(Dense(32, activation='relu'))\n",
    "model.add(Dense(actions.shape[0], activation='softmax'))"
   ]
  },
  {
   "cell_type": "code",
   "execution_count": 55,
   "metadata": {},
   "outputs": [],
   "source": [
    "res = [.7, 0.2, 0.1,0.5,0.8,0.6]"
   ]
  },
  {
   "cell_type": "code",
   "execution_count": 56,
   "metadata": {},
   "outputs": [
    {
     "data": {
      "text/plain": [
       "'Car'"
      ]
     },
     "execution_count": 56,
     "metadata": {},
     "output_type": "execute_result"
    }
   ],
   "source": [
    "actions[np.argmax(res)]"
   ]
  },
  {
   "cell_type": "code",
   "execution_count": 57,
   "metadata": {},
   "outputs": [],
   "source": [
    "model.compile(optimizer='Adam', loss='categorical_crossentropy', metrics=['categorical_accuracy'])"
   ]
  },
  {
   "cell_type": "code",
   "execution_count": 58,
   "metadata": {
    "scrolled": true
   },
   "outputs": [
    {
     "name": "stdout",
     "output_type": "stream",
     "text": [
      "Epoch 1/135\n",
      "25/25 [==============================] - 2s 7ms/step - loss: 2.9643 - categorical_accuracy: 0.0737\n",
      "Epoch 2/135\n",
      "25/25 [==============================] - 0s 7ms/step - loss: 2.7072 - categorical_accuracy: 0.1088\n",
      "Epoch 3/135\n",
      "25/25 [==============================] - 0s 7ms/step - loss: 2.5094 - categorical_accuracy: 0.1075\n",
      "Epoch 4/135\n",
      "25/25 [==============================] - 0s 7ms/step - loss: 2.3996 - categorical_accuracy: 0.1275\n",
      "Epoch 5/135\n",
      "25/25 [==============================] - 0s 7ms/step - loss: 2.2929 - categorical_accuracy: 0.1937\n",
      "Epoch 6/135\n",
      "25/25 [==============================] - 0s 8ms/step - loss: 2.1241 - categorical_accuracy: 0.2387\n",
      "Epoch 7/135\n",
      "25/25 [==============================] - 0s 7ms/step - loss: 2.0582 - categorical_accuracy: 0.2512\n",
      "Epoch 8/135\n",
      "25/25 [==============================] - 0s 7ms/step - loss: 1.8861 - categorical_accuracy: 0.3462\n",
      "Epoch 9/135\n",
      "25/25 [==============================] - 0s 7ms/step - loss: 1.8319 - categorical_accuracy: 0.3200\n",
      "Epoch 10/135\n",
      "25/25 [==============================] - 0s 7ms/step - loss: 1.7062 - categorical_accuracy: 0.3700\n",
      "Epoch 11/135\n",
      "25/25 [==============================] - 0s 7ms/step - loss: 1.5553 - categorical_accuracy: 0.4450\n",
      "Epoch 12/135\n",
      "25/25 [==============================] - 0s 7ms/step - loss: 1.4486 - categorical_accuracy: 0.4400\n",
      "Epoch 13/135\n",
      "25/25 [==============================] - 0s 7ms/step - loss: 1.3013 - categorical_accuracy: 0.4800\n",
      "Epoch 14/135\n",
      "25/25 [==============================] - 0s 7ms/step - loss: 1.2172 - categorical_accuracy: 0.5500\n",
      "Epoch 15/135\n",
      "25/25 [==============================] - 0s 8ms/step - loss: 1.1568 - categorical_accuracy: 0.5500\n",
      "Epoch 16/135\n",
      "25/25 [==============================] - 0s 7ms/step - loss: 1.1703 - categorical_accuracy: 0.5763\n",
      "Epoch 17/135\n",
      "25/25 [==============================] - 0s 10ms/step - loss: 1.0778 - categorical_accuracy: 0.6087\n",
      "Epoch 18/135\n",
      "25/25 [==============================] - 0s 13ms/step - loss: 1.0573 - categorical_accuracy: 0.6075\n",
      "Epoch 19/135\n",
      "25/25 [==============================] - 0s 7ms/step - loss: 0.9566 - categorical_accuracy: 0.6363\n",
      "Epoch 20/135\n",
      "25/25 [==============================] - 0s 8ms/step - loss: 0.9193 - categorical_accuracy: 0.6338\n",
      "Epoch 21/135\n",
      "25/25 [==============================] - 0s 8ms/step - loss: 0.9310 - categorical_accuracy: 0.6600\n",
      "Epoch 22/135\n",
      "25/25 [==============================] - 0s 9ms/step - loss: 0.8594 - categorical_accuracy: 0.7025\n",
      "Epoch 23/135\n",
      "25/25 [==============================] - 0s 7ms/step - loss: 0.8711 - categorical_accuracy: 0.6750\n",
      "Epoch 24/135\n",
      "25/25 [==============================] - 0s 8ms/step - loss: 0.8388 - categorical_accuracy: 0.6737\n",
      "Epoch 25/135\n",
      "25/25 [==============================] - 0s 8ms/step - loss: 0.7633 - categorical_accuracy: 0.7150\n",
      "Epoch 26/135\n",
      "25/25 [==============================] - 0s 7ms/step - loss: 0.7139 - categorical_accuracy: 0.7350\n",
      "Epoch 27/135\n",
      "25/25 [==============================] - 0s 8ms/step - loss: 0.6367 - categorical_accuracy: 0.7663\n",
      "Epoch 28/135\n",
      "25/25 [==============================] - 0s 7ms/step - loss: 0.6060 - categorical_accuracy: 0.7700\n",
      "Epoch 29/135\n",
      "25/25 [==============================] - 0s 8ms/step - loss: 0.6190 - categorical_accuracy: 0.7600\n",
      "Epoch 30/135\n",
      "25/25 [==============================] - 0s 7ms/step - loss: 0.6789 - categorical_accuracy: 0.7275\n",
      "Epoch 31/135\n",
      "25/25 [==============================] - 0s 8ms/step - loss: 0.5968 - categorical_accuracy: 0.7700\n",
      "Epoch 32/135\n",
      "25/25 [==============================] - 0s 8ms/step - loss: 0.5774 - categorical_accuracy: 0.7887\n",
      "Epoch 33/135\n",
      "25/25 [==============================] - 0s 7ms/step - loss: 0.4847 - categorical_accuracy: 0.8062\n",
      "Epoch 34/135\n",
      "25/25 [==============================] - 0s 7ms/step - loss: 0.5957 - categorical_accuracy: 0.7550\n",
      "Epoch 35/135\n",
      "25/25 [==============================] - 0s 7ms/step - loss: 0.4492 - categorical_accuracy: 0.8300\n",
      "Epoch 36/135\n",
      "25/25 [==============================] - 0s 8ms/step - loss: 0.5116 - categorical_accuracy: 0.7937\n",
      "Epoch 37/135\n",
      "25/25 [==============================] - 0s 7ms/step - loss: 0.4976 - categorical_accuracy: 0.8087\n",
      "Epoch 38/135\n",
      "25/25 [==============================] - 0s 8ms/step - loss: 0.4402 - categorical_accuracy: 0.8325\n",
      "Epoch 39/135\n",
      "25/25 [==============================] - 0s 7ms/step - loss: 0.5310 - categorical_accuracy: 0.7950\n",
      "Epoch 40/135\n",
      "25/25 [==============================] - 0s 8ms/step - loss: 0.4214 - categorical_accuracy: 0.8338\n",
      "Epoch 41/135\n",
      "25/25 [==============================] - 0s 7ms/step - loss: 0.3903 - categorical_accuracy: 0.8537\n",
      "Epoch 42/135\n",
      "25/25 [==============================] - 0s 8ms/step - loss: 0.3754 - categorical_accuracy: 0.8587\n",
      "Epoch 43/135\n",
      "25/25 [==============================] - 0s 7ms/step - loss: 0.3631 - categorical_accuracy: 0.8500\n",
      "Epoch 44/135\n",
      "25/25 [==============================] - 0s 7ms/step - loss: 0.3614 - categorical_accuracy: 0.8512\n",
      "Epoch 45/135\n",
      "25/25 [==============================] - 0s 7ms/step - loss: 0.3922 - categorical_accuracy: 0.8525\n",
      "Epoch 46/135\n",
      "25/25 [==============================] - 0s 8ms/step - loss: 0.3498 - categorical_accuracy: 0.8600\n",
      "Epoch 47/135\n",
      "25/25 [==============================] - 0s 8ms/step - loss: 0.3961 - categorical_accuracy: 0.8475\n",
      "Epoch 48/135\n",
      "25/25 [==============================] - 0s 7ms/step - loss: 0.3496 - categorical_accuracy: 0.8650\n",
      "Epoch 49/135\n",
      "25/25 [==============================] - 0s 8ms/step - loss: 0.2552 - categorical_accuracy: 0.8988\n",
      "Epoch 50/135\n",
      "25/25 [==============================] - 0s 7ms/step - loss: 0.3766 - categorical_accuracy: 0.8625\n",
      "Epoch 51/135\n",
      "25/25 [==============================] - 0s 8ms/step - loss: 0.2985 - categorical_accuracy: 0.8775\n",
      "Epoch 52/135\n",
      "25/25 [==============================] - 0s 7ms/step - loss: 0.2645 - categorical_accuracy: 0.9000\n",
      "Epoch 53/135\n",
      "25/25 [==============================] - 0s 7ms/step - loss: 0.3210 - categorical_accuracy: 0.8800\n",
      "Epoch 54/135\n",
      "25/25 [==============================] - 0s 8ms/step - loss: 0.3840 - categorical_accuracy: 0.8625\n",
      "Epoch 55/135\n",
      "25/25 [==============================] - 0s 8ms/step - loss: 0.3093 - categorical_accuracy: 0.8875\n",
      "Epoch 56/135\n",
      "25/25 [==============================] - 0s 8ms/step - loss: 0.3867 - categorical_accuracy: 0.8512\n",
      "Epoch 57/135\n",
      "25/25 [==============================] - 0s 8ms/step - loss: 0.2093 - categorical_accuracy: 0.9162\n",
      "Epoch 58/135\n",
      "25/25 [==============================] - 0s 8ms/step - loss: 0.2012 - categorical_accuracy: 0.9200\n",
      "Epoch 59/135\n",
      "25/25 [==============================] - 0s 8ms/step - loss: 0.1728 - categorical_accuracy: 0.9262\n",
      "Epoch 60/135\n",
      "25/25 [==============================] - 0s 7ms/step - loss: 0.2394 - categorical_accuracy: 0.9050\n",
      "Epoch 61/135\n",
      "25/25 [==============================] - 0s 8ms/step - loss: 0.2218 - categorical_accuracy: 0.9125\n",
      "Epoch 62/135\n",
      "25/25 [==============================] - 0s 8ms/step - loss: 0.3539 - categorical_accuracy: 0.8737\n",
      "Epoch 63/135\n",
      "25/25 [==============================] - 0s 7ms/step - loss: 0.4738 - categorical_accuracy: 0.8338\n",
      "Epoch 64/135\n",
      "25/25 [==============================] - 0s 8ms/step - loss: 0.2175 - categorical_accuracy: 0.9375\n",
      "Epoch 65/135\n",
      "25/25 [==============================] - 0s 8ms/step - loss: 0.1449 - categorical_accuracy: 0.9475\n",
      "Epoch 66/135\n",
      "25/25 [==============================] - 0s 9ms/step - loss: 0.1759 - categorical_accuracy: 0.9350\n",
      "Epoch 67/135\n",
      "25/25 [==============================] - 0s 8ms/step - loss: 0.1879 - categorical_accuracy: 0.9262\n",
      "Epoch 68/135\n",
      "25/25 [==============================] - 0s 9ms/step - loss: 0.2558 - categorical_accuracy: 0.9038\n",
      "Epoch 69/135\n",
      "25/25 [==============================] - 0s 7ms/step - loss: 0.2342 - categorical_accuracy: 0.9075\n",
      "Epoch 70/135\n",
      "25/25 [==============================] - 0s 8ms/step - loss: 0.1466 - categorical_accuracy: 0.9400\n",
      "Epoch 71/135\n",
      "25/25 [==============================] - 0s 8ms/step - loss: 0.1886 - categorical_accuracy: 0.9325\n",
      "Epoch 72/135\n",
      "25/25 [==============================] - 0s 7ms/step - loss: 0.1761 - categorical_accuracy: 0.9250\n",
      "Epoch 73/135\n",
      "25/25 [==============================] - 0s 7ms/step - loss: 0.2853 - categorical_accuracy: 0.9125\n",
      "Epoch 74/135\n",
      "25/25 [==============================] - 0s 7ms/step - loss: 0.1399 - categorical_accuracy: 0.9513\n",
      "Epoch 75/135\n",
      "25/25 [==============================] - 0s 7ms/step - loss: 0.1886 - categorical_accuracy: 0.9350\n",
      "Epoch 76/135\n",
      "25/25 [==============================] - 0s 8ms/step - loss: 0.2419 - categorical_accuracy: 0.9075\n",
      "Epoch 77/135\n",
      "25/25 [==============================] - 0s 8ms/step - loss: 0.2376 - categorical_accuracy: 0.9050\n",
      "Epoch 78/135\n",
      "25/25 [==============================] - 0s 7ms/step - loss: 0.1615 - categorical_accuracy: 0.9350\n",
      "Epoch 79/135\n",
      "25/25 [==============================] - 0s 7ms/step - loss: 0.1872 - categorical_accuracy: 0.9325\n",
      "Epoch 80/135\n",
      "25/25 [==============================] - 0s 7ms/step - loss: 0.2865 - categorical_accuracy: 0.8913\n",
      "Epoch 81/135\n",
      "25/25 [==============================] - 0s 7ms/step - loss: 0.2012 - categorical_accuracy: 0.9262\n",
      "Epoch 82/135\n",
      "25/25 [==============================] - 0s 7ms/step - loss: 0.1230 - categorical_accuracy: 0.9550\n",
      "Epoch 83/135\n",
      "25/25 [==============================] - 0s 7ms/step - loss: 0.1322 - categorical_accuracy: 0.9563\n",
      "Epoch 84/135\n",
      "25/25 [==============================] - 0s 7ms/step - loss: 0.1419 - categorical_accuracy: 0.9500\n",
      "Epoch 85/135\n",
      "25/25 [==============================] - 0s 7ms/step - loss: 0.1468 - categorical_accuracy: 0.9463\n",
      "Epoch 86/135\n",
      "25/25 [==============================] - 0s 7ms/step - loss: 0.1540 - categorical_accuracy: 0.9450\n",
      "Epoch 87/135\n",
      "25/25 [==============================] - 0s 7ms/step - loss: 0.1800 - categorical_accuracy: 0.9400\n",
      "Epoch 88/135\n",
      "25/25 [==============================] - 0s 7ms/step - loss: 0.2191 - categorical_accuracy: 0.9250\n",
      "Epoch 89/135\n",
      "25/25 [==============================] - 0s 7ms/step - loss: 0.2488 - categorical_accuracy: 0.9087\n",
      "Epoch 90/135\n",
      "25/25 [==============================] - 0s 7ms/step - loss: 0.2302 - categorical_accuracy: 0.9162\n",
      "Epoch 91/135\n",
      "25/25 [==============================] - 0s 7ms/step - loss: 0.1573 - categorical_accuracy: 0.9500\n",
      "Epoch 92/135\n",
      "25/25 [==============================] - 0s 7ms/step - loss: 0.1001 - categorical_accuracy: 0.9613\n",
      "Epoch 93/135\n",
      "25/25 [==============================] - 0s 7ms/step - loss: 0.0836 - categorical_accuracy: 0.9663\n",
      "Epoch 94/135\n",
      "25/25 [==============================] - 0s 7ms/step - loss: 0.0688 - categorical_accuracy: 0.9762\n",
      "Epoch 95/135\n",
      "25/25 [==============================] - 0s 7ms/step - loss: 0.0859 - categorical_accuracy: 0.9725\n",
      "Epoch 96/135\n",
      "25/25 [==============================] - 0s 8ms/step - loss: 0.1066 - categorical_accuracy: 0.9650\n",
      "Epoch 97/135\n",
      "25/25 [==============================] - 0s 8ms/step - loss: 0.2014 - categorical_accuracy: 0.9287\n",
      "Epoch 98/135\n",
      "25/25 [==============================] - 0s 8ms/step - loss: 0.2252 - categorical_accuracy: 0.9175\n",
      "Epoch 99/135\n",
      "25/25 [==============================] - 0s 8ms/step - loss: 0.2231 - categorical_accuracy: 0.9200\n",
      "Epoch 100/135\n",
      "25/25 [==============================] - 0s 7ms/step - loss: 0.1370 - categorical_accuracy: 0.9500\n",
      "Epoch 101/135\n",
      "25/25 [==============================] - 0s 7ms/step - loss: 0.0855 - categorical_accuracy: 0.9688\n",
      "Epoch 102/135\n",
      "25/25 [==============================] - 0s 7ms/step - loss: 0.0733 - categorical_accuracy: 0.9663\n",
      "Epoch 103/135\n",
      "25/25 [==============================] - 0s 7ms/step - loss: 0.0640 - categorical_accuracy: 0.9775\n",
      "Epoch 104/135\n",
      "25/25 [==============================] - 0s 7ms/step - loss: 0.0337 - categorical_accuracy: 0.9900\n",
      "Epoch 105/135\n",
      "25/25 [==============================] - 0s 7ms/step - loss: 0.0666 - categorical_accuracy: 0.9712\n",
      "Epoch 106/135\n",
      "25/25 [==============================] - 0s 7ms/step - loss: 0.1015 - categorical_accuracy: 0.9650\n",
      "Epoch 107/135\n",
      "25/25 [==============================] - 0s 8ms/step - loss: 0.1739 - categorical_accuracy: 0.9350\n",
      "Epoch 108/135\n",
      "25/25 [==============================] - 0s 7ms/step - loss: 0.1417 - categorical_accuracy: 0.9400\n",
      "Epoch 109/135\n",
      "25/25 [==============================] - 0s 7ms/step - loss: 0.0836 - categorical_accuracy: 0.9737\n",
      "Epoch 110/135\n",
      "25/25 [==============================] - 0s 7ms/step - loss: 0.1190 - categorical_accuracy: 0.9688\n",
      "Epoch 111/135\n",
      "25/25 [==============================] - 0s 7ms/step - loss: 0.1168 - categorical_accuracy: 0.9563\n",
      "Epoch 112/135\n",
      "25/25 [==============================] - 0s 7ms/step - loss: 0.0897 - categorical_accuracy: 0.9663\n",
      "Epoch 113/135\n",
      "25/25 [==============================] - 0s 7ms/step - loss: 0.0716 - categorical_accuracy: 0.9750\n",
      "Epoch 114/135\n",
      "25/25 [==============================] - 0s 7ms/step - loss: 0.1122 - categorical_accuracy: 0.9463\n",
      "Epoch 115/135\n",
      "25/25 [==============================] - 0s 7ms/step - loss: 0.2053 - categorical_accuracy: 0.9375\n",
      "Epoch 116/135\n",
      "25/25 [==============================] - 0s 7ms/step - loss: 0.0730 - categorical_accuracy: 0.9825\n",
      "Epoch 117/135\n",
      "25/25 [==============================] - 0s 7ms/step - loss: 0.0415 - categorical_accuracy: 0.9800\n",
      "Epoch 118/135\n",
      "25/25 [==============================] - 0s 7ms/step - loss: 0.0449 - categorical_accuracy: 0.9850\n",
      "Epoch 119/135\n",
      "25/25 [==============================] - 0s 7ms/step - loss: 0.1554 - categorical_accuracy: 0.9538\n",
      "Epoch 120/135\n",
      "25/25 [==============================] - 0s 7ms/step - loss: 0.1439 - categorical_accuracy: 0.9475\n",
      "Epoch 121/135\n",
      "25/25 [==============================] - 0s 7ms/step - loss: 0.1315 - categorical_accuracy: 0.9563\n",
      "Epoch 122/135\n",
      "25/25 [==============================] - 0s 7ms/step - loss: 0.0823 - categorical_accuracy: 0.9700\n",
      "Epoch 123/135\n",
      "25/25 [==============================] - 0s 7ms/step - loss: 0.0536 - categorical_accuracy: 0.9875\n",
      "Epoch 124/135\n",
      "25/25 [==============================] - 0s 7ms/step - loss: 0.0371 - categorical_accuracy: 0.9900\n",
      "Epoch 125/135\n",
      "25/25 [==============================] - 0s 7ms/step - loss: 0.0679 - categorical_accuracy: 0.9800\n",
      "Epoch 126/135\n",
      "25/25 [==============================] - 0s 7ms/step - loss: 0.0726 - categorical_accuracy: 0.9725\n",
      "Epoch 127/135\n",
      "25/25 [==============================] - 0s 7ms/step - loss: 0.0879 - categorical_accuracy: 0.9725\n",
      "Epoch 128/135\n",
      "25/25 [==============================] - 0s 7ms/step - loss: 0.0655 - categorical_accuracy: 0.9775\n",
      "Epoch 129/135\n",
      "25/25 [==============================] - 0s 7ms/step - loss: 0.0447 - categorical_accuracy: 0.9862\n",
      "Epoch 130/135\n",
      "25/25 [==============================] - 0s 7ms/step - loss: 0.0287 - categorical_accuracy: 0.9912\n",
      "Epoch 131/135\n",
      "25/25 [==============================] - 0s 7ms/step - loss: 0.0232 - categorical_accuracy: 0.9937\n",
      "Epoch 132/135\n",
      "25/25 [==============================] - 0s 7ms/step - loss: 0.0272 - categorical_accuracy: 0.9912\n",
      "Epoch 133/135\n",
      "25/25 [==============================] - 0s 7ms/step - loss: 0.0192 - categorical_accuracy: 0.9950\n",
      "Epoch 134/135\n",
      "25/25 [==============================] - 0s 7ms/step - loss: 0.0346 - categorical_accuracy: 0.9900\n",
      "Epoch 135/135\n",
      "25/25 [==============================] - 0s 7ms/step - loss: 0.1270 - categorical_accuracy: 0.9575\n"
     ]
    },
    {
     "data": {
      "text/plain": [
       "<keras.callbacks.History at 0x137f8e7c3a0>"
      ]
     },
     "execution_count": 58,
     "metadata": {},
     "output_type": "execute_result"
    }
   ],
   "source": [
    "model.fit(X_train, y_train, epochs=135, callbacks=[tb_callback])"
   ]
  },
  {
   "cell_type": "code",
   "execution_count": 59,
   "metadata": {},
   "outputs": [
    {
     "name": "stdout",
     "output_type": "stream",
     "text": [
      "Model: \"sequential_1\"\n",
      "_________________________________________________________________\n",
      " Layer (type)                Output Shape              Param #   \n",
      "=================================================================\n",
      " lstm_3 (LSTM)               (None, 3, 64)             82688     \n",
      "                                                                 \n",
      " lstm_4 (LSTM)               (None, 3, 128)            98816     \n",
      "                                                                 \n",
      " lstm_5 (LSTM)               (None, 64)                49408     \n",
      "                                                                 \n",
      " dense_3 (Dense)             (None, 64)                4160      \n",
      "                                                                 \n",
      " dense_4 (Dense)             (None, 32)                2080      \n",
      "                                                                 \n",
      " dense_5 (Dense)             (None, 20)                660       \n",
      "                                                                 \n",
      "=================================================================\n",
      "Total params: 237,812\n",
      "Trainable params: 237,812\n",
      "Non-trainable params: 0\n",
      "_________________________________________________________________\n"
     ]
    }
   ],
   "source": [
    "model.summary()"
   ]
  },
  {
   "cell_type": "code",
   "execution_count": 60,
   "metadata": {},
   "outputs": [
    {
     "name": "stdout",
     "output_type": "stream",
     "text": [
      "1/1 [==============================] - 0s 489ms/step - loss: 3.2053 - categorical_accuracy: 0.6500\n",
      "Test accuracy: 65.0%\n"
     ]
    }
   ],
   "source": [
    "_, accuracy = model.evaluate(X_test, y_test)\n",
    "print(f\"Test accuracy: {round(accuracy * 100, 2)}%\")"
   ]
  },
  {
   "cell_type": "markdown",
   "metadata": {},
   "source": [
    "# 8. Make Predictions"
   ]
  },
  {
   "cell_type": "code",
   "execution_count": 61,
   "metadata": {},
   "outputs": [],
   "source": [
    "res = model.predict(X_test)"
   ]
  },
  {
   "cell_type": "code",
   "execution_count": 62,
   "metadata": {},
   "outputs": [
    {
     "name": "stdout",
     "output_type": "stream",
     "text": [
      "Model output:  Act\n",
      "Actual output:  Act\n",
      "Model output:  Angry\n",
      "Actual output:  Angry\n",
      "Model output:  Pakistan\n",
      "Actual output:  Before\n",
      "Model output:  Birthday\n",
      "Actual output:  Birthday\n",
      "Model output:  Car\n",
      "Actual output:  Car\n",
      "Model output:  Friend\n",
      "Actual output:  Child\n",
      "Model output:  Congratulation\n",
      "Actual output:  Congratulation\n",
      "Model output:  Mother\n",
      "Actual output:  Drink\n",
      "Model output:  Food\n",
      "Actual output:  Education\n",
      "Model output:  Food\n",
      "Actual output:  Food\n",
      "Model output:  Friend\n",
      "Actual output:  Friend\n",
      "Model output:  Good\n",
      "Actual output:  Good\n",
      "Model output:  Happy\n",
      "Actual output:  Happy\n",
      "Model output:  Hello\n",
      "Actual output:  Hello\n",
      "Model output:  Job\n",
      "Actual output:  Job\n",
      "Model output:  Congratulation\n",
      "Actual output:  Market\n",
      "Model output:  Pakistan\n",
      "Actual output:  Mother\n",
      "Model output:  Pakistan\n",
      "Actual output:  Pakistan\n",
      "Model output:  Restaurant\n",
      "Actual output:  Restaurant\n",
      "Model output:  Education\n",
      "Actual output:  Tahnk you\n"
     ]
    }
   ],
   "source": [
    "for i in range(20):\n",
    "    print('Model output: ',actions[np.argmax(res[i])])\n",
    "    print('Actual output: ',actions[np.argmax(y_test[i])])\n",
    "    \n"
   ]
  },
  {
   "cell_type": "code",
   "execution_count": 63,
   "metadata": {},
   "outputs": [
    {
     "data": {
      "text/plain": [
       "'Pakistan'"
      ]
     },
     "execution_count": 63,
     "metadata": {},
     "output_type": "execute_result"
    }
   ],
   "source": [
    "actions[np.argmax(res[16])]"
   ]
  },
  {
   "cell_type": "code",
   "execution_count": 64,
   "metadata": {},
   "outputs": [
    {
     "data": {
      "text/plain": [
       "'Mother'"
      ]
     },
     "execution_count": 64,
     "metadata": {},
     "output_type": "execute_result"
    }
   ],
   "source": [
    "actions[np.argmax(y_test[16])]"
   ]
  },
  {
   "cell_type": "markdown",
   "metadata": {},
   "source": [
    "# 9. Save Weights"
   ]
  },
  {
   "cell_type": "code",
   "execution_count": 67,
   "metadata": {},
   "outputs": [],
   "source": [
    "model.save('model.h5')"
   ]
  },
  {
   "cell_type": "code",
   "execution_count": 28,
   "metadata": {},
   "outputs": [
    {
     "ename": "NameError",
     "evalue": "name 'load_model' is not defined",
     "output_type": "error",
     "traceback": [
      "\u001b[1;31m---------------------------------------------------------------------------\u001b[0m",
      "\u001b[1;31mNameError\u001b[0m                                 Traceback (most recent call last)",
      "\u001b[1;32m<ipython-input-28-d7950e9aea83>\u001b[0m in \u001b[0;36m<module>\u001b[1;34m\u001b[0m\n\u001b[1;32m----> 1\u001b[1;33m \u001b[0mmodel\u001b[0m \u001b[1;33m=\u001b[0m \u001b[0mload_model\u001b[0m\u001b[1;33m(\u001b[0m\u001b[1;34m'model.h5'\u001b[0m\u001b[1;33m)\u001b[0m\u001b[1;33m\u001b[0m\u001b[1;33m\u001b[0m\u001b[0m\n\u001b[0m",
      "\u001b[1;31mNameError\u001b[0m: name 'load_model' is not defined"
     ]
    }
   ],
   "source": [
    " model = load_model('model.h5')"
   ]
  },
  {
   "cell_type": "code",
   "execution_count": 322,
   "metadata": {},
   "outputs": [],
   "source": [
    " model.load_weights('action.h5')"
   ]
  },
  {
   "cell_type": "markdown",
   "metadata": {},
   "source": [
    "# 10. Evaluation using Confusion Matrix and Accuracy"
   ]
  },
  {
   "cell_type": "code",
   "execution_count": 10,
   "metadata": {},
   "outputs": [],
   "source": [
    "from sklearn.metrics import multilabel_confusion_matrix, accuracy_score"
   ]
  },
  {
   "cell_type": "code",
   "execution_count": 11,
   "metadata": {},
   "outputs": [
    {
     "ename": "NameError",
     "evalue": "name 'model' is not defined",
     "output_type": "error",
     "traceback": [
      "\u001b[1;31m---------------------------------------------------------------------------\u001b[0m",
      "\u001b[1;31mNameError\u001b[0m                                 Traceback (most recent call last)",
      "\u001b[1;32m<ipython-input-11-412a1357352b>\u001b[0m in \u001b[0;36m<module>\u001b[1;34m\u001b[0m\n\u001b[1;32m----> 1\u001b[1;33m \u001b[0myhat\u001b[0m \u001b[1;33m=\u001b[0m \u001b[0mmodel\u001b[0m\u001b[1;33m.\u001b[0m\u001b[0mpredict\u001b[0m\u001b[1;33m(\u001b[0m\u001b[0mX_test\u001b[0m\u001b[1;33m)\u001b[0m\u001b[1;33m\u001b[0m\u001b[1;33m\u001b[0m\u001b[0m\n\u001b[0m",
      "\u001b[1;31mNameError\u001b[0m: name 'model' is not defined"
     ]
    }
   ],
   "source": [
    "yhat = model.predict(X_test)"
   ]
  },
  {
   "cell_type": "code",
   "execution_count": 329,
   "metadata": {},
   "outputs": [],
   "source": [
    "ytrue = np.argmax(y_test, axis=1).tolist()\n",
    "yhat = np.argmax(yhat, axis=1).tolist()"
   ]
  },
  {
   "cell_type": "code",
   "execution_count": 326,
   "metadata": {},
   "outputs": [
    {
     "ename": "AxisError",
     "evalue": "axis 1 is out of bounds for array of dimension 1",
     "output_type": "error",
     "traceback": [
      "\u001b[1;31m---------------------------------------------------------------------------\u001b[0m",
      "\u001b[1;31mAxisError\u001b[0m                                 Traceback (most recent call last)",
      "\u001b[1;32m<ipython-input-326-b600e817e379>\u001b[0m in \u001b[0;36m<module>\u001b[1;34m\u001b[0m\n\u001b[0;32m      1\u001b[0m \u001b[0mytrue\u001b[0m \u001b[1;33m=\u001b[0m \u001b[0mnp\u001b[0m\u001b[1;33m.\u001b[0m\u001b[0margmax\u001b[0m\u001b[1;33m(\u001b[0m\u001b[0my_test\u001b[0m\u001b[1;33m,\u001b[0m \u001b[0maxis\u001b[0m\u001b[1;33m=\u001b[0m\u001b[1;36m1\u001b[0m\u001b[1;33m)\u001b[0m\u001b[1;33m.\u001b[0m\u001b[0mtolist\u001b[0m\u001b[1;33m(\u001b[0m\u001b[1;33m)\u001b[0m\u001b[1;33m\u001b[0m\u001b[1;33m\u001b[0m\u001b[0m\n\u001b[1;32m----> 2\u001b[1;33m \u001b[0myhat\u001b[0m \u001b[1;33m=\u001b[0m \u001b[0mnp\u001b[0m\u001b[1;33m.\u001b[0m\u001b[0margmax\u001b[0m\u001b[1;33m(\u001b[0m\u001b[0myhat\u001b[0m\u001b[1;33m,\u001b[0m \u001b[0maxis\u001b[0m\u001b[1;33m=\u001b[0m\u001b[1;36m1\u001b[0m\u001b[1;33m)\u001b[0m\u001b[1;33m.\u001b[0m\u001b[0mtolist\u001b[0m\u001b[1;33m(\u001b[0m\u001b[1;33m)\u001b[0m\u001b[1;33m\u001b[0m\u001b[1;33m\u001b[0m\u001b[0m\n\u001b[0m",
      "\u001b[1;32m<__array_function__ internals>\u001b[0m in \u001b[0;36margmax\u001b[1;34m(*args, **kwargs)\u001b[0m\n",
      "\u001b[1;32m~\\anaconda3\\lib\\site-packages\\numpy\\core\\fromnumeric.py\u001b[0m in \u001b[0;36margmax\u001b[1;34m(a, axis, out)\u001b[0m\n\u001b[0;32m   1191\u001b[0m \u001b[1;33m\u001b[0m\u001b[0m\n\u001b[0;32m   1192\u001b[0m     \"\"\"\n\u001b[1;32m-> 1193\u001b[1;33m     \u001b[1;32mreturn\u001b[0m \u001b[0m_wrapfunc\u001b[0m\u001b[1;33m(\u001b[0m\u001b[0ma\u001b[0m\u001b[1;33m,\u001b[0m \u001b[1;34m'argmax'\u001b[0m\u001b[1;33m,\u001b[0m \u001b[0maxis\u001b[0m\u001b[1;33m=\u001b[0m\u001b[0maxis\u001b[0m\u001b[1;33m,\u001b[0m \u001b[0mout\u001b[0m\u001b[1;33m=\u001b[0m\u001b[0mout\u001b[0m\u001b[1;33m)\u001b[0m\u001b[1;33m\u001b[0m\u001b[1;33m\u001b[0m\u001b[0m\n\u001b[0m\u001b[0;32m   1194\u001b[0m \u001b[1;33m\u001b[0m\u001b[0m\n\u001b[0;32m   1195\u001b[0m \u001b[1;33m\u001b[0m\u001b[0m\n",
      "\u001b[1;32m~\\anaconda3\\lib\\site-packages\\numpy\\core\\fromnumeric.py\u001b[0m in \u001b[0;36m_wrapfunc\u001b[1;34m(obj, method, *args, **kwds)\u001b[0m\n\u001b[0;32m     53\u001b[0m     \u001b[0mbound\u001b[0m \u001b[1;33m=\u001b[0m \u001b[0mgetattr\u001b[0m\u001b[1;33m(\u001b[0m\u001b[0mobj\u001b[0m\u001b[1;33m,\u001b[0m \u001b[0mmethod\u001b[0m\u001b[1;33m,\u001b[0m \u001b[1;32mNone\u001b[0m\u001b[1;33m)\u001b[0m\u001b[1;33m\u001b[0m\u001b[1;33m\u001b[0m\u001b[0m\n\u001b[0;32m     54\u001b[0m     \u001b[1;32mif\u001b[0m \u001b[0mbound\u001b[0m \u001b[1;32mis\u001b[0m \u001b[1;32mNone\u001b[0m\u001b[1;33m:\u001b[0m\u001b[1;33m\u001b[0m\u001b[1;33m\u001b[0m\u001b[0m\n\u001b[1;32m---> 55\u001b[1;33m         \u001b[1;32mreturn\u001b[0m \u001b[0m_wrapit\u001b[0m\u001b[1;33m(\u001b[0m\u001b[0mobj\u001b[0m\u001b[1;33m,\u001b[0m \u001b[0mmethod\u001b[0m\u001b[1;33m,\u001b[0m \u001b[1;33m*\u001b[0m\u001b[0margs\u001b[0m\u001b[1;33m,\u001b[0m \u001b[1;33m**\u001b[0m\u001b[0mkwds\u001b[0m\u001b[1;33m)\u001b[0m\u001b[1;33m\u001b[0m\u001b[1;33m\u001b[0m\u001b[0m\n\u001b[0m\u001b[0;32m     56\u001b[0m \u001b[1;33m\u001b[0m\u001b[0m\n\u001b[0;32m     57\u001b[0m     \u001b[1;32mtry\u001b[0m\u001b[1;33m:\u001b[0m\u001b[1;33m\u001b[0m\u001b[1;33m\u001b[0m\u001b[0m\n",
      "\u001b[1;32m~\\anaconda3\\lib\\site-packages\\numpy\\core\\fromnumeric.py\u001b[0m in \u001b[0;36m_wrapit\u001b[1;34m(obj, method, *args, **kwds)\u001b[0m\n\u001b[0;32m     42\u001b[0m     \u001b[1;32mexcept\u001b[0m \u001b[0mAttributeError\u001b[0m\u001b[1;33m:\u001b[0m\u001b[1;33m\u001b[0m\u001b[1;33m\u001b[0m\u001b[0m\n\u001b[0;32m     43\u001b[0m         \u001b[0mwrap\u001b[0m \u001b[1;33m=\u001b[0m \u001b[1;32mNone\u001b[0m\u001b[1;33m\u001b[0m\u001b[1;33m\u001b[0m\u001b[0m\n\u001b[1;32m---> 44\u001b[1;33m     \u001b[0mresult\u001b[0m \u001b[1;33m=\u001b[0m \u001b[0mgetattr\u001b[0m\u001b[1;33m(\u001b[0m\u001b[0masarray\u001b[0m\u001b[1;33m(\u001b[0m\u001b[0mobj\u001b[0m\u001b[1;33m)\u001b[0m\u001b[1;33m,\u001b[0m \u001b[0mmethod\u001b[0m\u001b[1;33m)\u001b[0m\u001b[1;33m(\u001b[0m\u001b[1;33m*\u001b[0m\u001b[0margs\u001b[0m\u001b[1;33m,\u001b[0m \u001b[1;33m**\u001b[0m\u001b[0mkwds\u001b[0m\u001b[1;33m)\u001b[0m\u001b[1;33m\u001b[0m\u001b[1;33m\u001b[0m\u001b[0m\n\u001b[0m\u001b[0;32m     45\u001b[0m     \u001b[1;32mif\u001b[0m \u001b[0mwrap\u001b[0m\u001b[1;33m:\u001b[0m\u001b[1;33m\u001b[0m\u001b[1;33m\u001b[0m\u001b[0m\n\u001b[0;32m     46\u001b[0m         \u001b[1;32mif\u001b[0m \u001b[1;32mnot\u001b[0m \u001b[0misinstance\u001b[0m\u001b[1;33m(\u001b[0m\u001b[0mresult\u001b[0m\u001b[1;33m,\u001b[0m \u001b[0mmu\u001b[0m\u001b[1;33m.\u001b[0m\u001b[0mndarray\u001b[0m\u001b[1;33m)\u001b[0m\u001b[1;33m:\u001b[0m\u001b[1;33m\u001b[0m\u001b[1;33m\u001b[0m\u001b[0m\n",
      "\u001b[1;31mAxisError\u001b[0m: axis 1 is out of bounds for array of dimension 1"
     ]
    }
   ],
   "source": [
    "ytrue = np.argmax(y_test, axis=1).tolist()\n",
    "yhat = np.argmax(yhat, axis=1).tolist()"
   ]
  },
  {
   "cell_type": "code",
   "execution_count": 109,
   "metadata": {},
   "outputs": [
    {
     "data": {
      "text/plain": [
       "array([[[14,  1],\n",
       "        [ 0,  0]],\n",
       "\n",
       "       [[14,  1],\n",
       "        [ 0,  0]],\n",
       "\n",
       "       [[14,  0],\n",
       "        [ 0,  1]],\n",
       "\n",
       "       [[14,  0],\n",
       "        [ 0,  1]],\n",
       "\n",
       "       [[14,  0],\n",
       "        [ 1,  0]],\n",
       "\n",
       "       [[14,  0],\n",
       "        [ 1,  0]],\n",
       "\n",
       "       [[14,  1],\n",
       "        [ 0,  0]],\n",
       "\n",
       "       [[11,  3],\n",
       "        [ 1,  0]],\n",
       "\n",
       "       [[13,  0],\n",
       "        [ 1,  1]],\n",
       "\n",
       "       [[14,  0],\n",
       "        [ 0,  1]],\n",
       "\n",
       "       [[12,  0],\n",
       "        [ 2,  1]],\n",
       "\n",
       "       [[12,  2],\n",
       "        [ 0,  1]],\n",
       "\n",
       "       [[12,  0],\n",
       "        [ 2,  1]]], dtype=int64)"
      ]
     },
     "execution_count": 109,
     "metadata": {},
     "output_type": "execute_result"
    }
   ],
   "source": [
    "multilabel_confusion_matrix(ytrue, yhat)"
   ]
  },
  {
   "cell_type": "code",
   "execution_count": 111,
   "metadata": {},
   "outputs": [
    {
     "data": {
      "text/plain": [
       "0.4666666666666667"
      ]
     },
     "execution_count": 111,
     "metadata": {},
     "output_type": "execute_result"
    }
   ],
   "source": [
    "accuracy_score(ytrue, yhat)"
   ]
  },
  {
   "cell_type": "markdown",
   "metadata": {},
   "source": [
    "# 11. Test in Real Time"
   ]
  },
  {
   "cell_type": "code",
   "execution_count": 41,
   "metadata": {},
   "outputs": [],
   "source": [
    "from keras.models import load_model"
   ]
  },
  {
   "cell_type": "code",
   "execution_count": 42,
   "metadata": {},
   "outputs": [],
   "source": [
    " model = load_model('model.h5')"
   ]
  },
  {
   "cell_type": "code",
   "execution_count": 43,
   "metadata": {},
   "outputs": [
    {
     "name": "stdout",
     "output_type": "stream",
     "text": [
      "Model: \"sequential_1\"\n",
      "_________________________________________________________________\n",
      " Layer (type)                Output Shape              Param #   \n",
      "=================================================================\n",
      " lstm_3 (LSTM)               (None, 3, 64)             82688     \n",
      "                                                                 \n",
      " lstm_4 (LSTM)               (None, 3, 128)            98816     \n",
      "                                                                 \n",
      " lstm_5 (LSTM)               (None, 64)                49408     \n",
      "                                                                 \n",
      " dense_3 (Dense)             (None, 64)                4160      \n",
      "                                                                 \n",
      " dense_4 (Dense)             (None, 32)                2080      \n",
      "                                                                 \n",
      " dense_5 (Dense)             (None, 20)                660       \n",
      "                                                                 \n",
      "=================================================================\n",
      "Total params: 237,812\n",
      "Trainable params: 237,812\n",
      "Non-trainable params: 0\n",
      "_________________________________________________________________\n"
     ]
    }
   ],
   "source": [
    "model.summary()"
   ]
  },
  {
   "cell_type": "code",
   "execution_count": null,
   "metadata": {},
   "outputs": [],
   "source": [
    "#os.makedirs(os.path.join('Test'))"
   ]
  },
  {
   "cell_type": "code",
   "execution_count": 57,
   "metadata": {},
   "outputs": [
    {
     "name": "stdout",
     "output_type": "stream",
     "text": [
      "Act\n"
     ]
    }
   ],
   "source": [
    "sequence = []\n",
    "sentence = []\n",
    "predictions = []\n",
    "threshold = 0.8\n",
    "cap = cv2.VideoCapture('act41.mp4')\n",
    "with mp_holistic.Holistic(min_detection_confidence=0.9, min_tracking_confidence=0.9) as holistic: \n",
    "    sequence = []\n",
    "    for seq in range(3):\n",
    "        # Loop through video length aka sequence length\n",
    "        for frame_num in range(20):\n",
    "\n",
    "            # Read feed\n",
    "            ret, frame = cap.read()\n",
    "            if ret==True:\n",
    "            # Make detections\n",
    "                frame= imutils.resize(frame, width=920, height=920)\n",
    "                image, results = mediapipe_detection(frame, holistic)\n",
    "#                 print(results)\n",
    "\n",
    "                # Draw landmarks\n",
    "                draw_styled_landmarks(image, results)\n",
    "\n",
    "                # NEW Apply wait logic\n",
    "                if frame_num == 0: \n",
    "                    cv2.rectangle(image, (0,0), (640, 40), (245, 117, 16), -1)\n",
    "                    cv2.putText(image, 'Collecting frames for {}'.format(seq), (25,32), \n",
    "                                                       cv2.FONT_HERSHEY_SIMPLEX, 0.5, (0, 0, 255), 1, cv2.LINE_AA)\n",
    "\n",
    "                # Show to screenq\n",
    "                    cv2.imshow('OpenCV Feed', image)\n",
    "                    #cv2.waitKey(1000)\n",
    "                else: \n",
    "                    cv2.putText(image, 'Collecting frames for {}'.format(seq), (25,32),cv2.FONT_HERSHEY_SIMPLEX, 0.5, (0, 0, 255), 1, cv2.LINE_AA)\n",
    "                    # Show to screen\n",
    "                    cv2.imshow('OpenCV Feed', image)\n",
    "\n",
    "                # NEW Export keypoints\n",
    "                #print(results.multi_hand_landmarks)\n",
    "                keypoints = extract_keypoints(results)\n",
    "               \n",
    "                npy_path = os.path.join('test', str(seq))\n",
    "                np.save(npy_path, keypoints)\n",
    "\n",
    "                # Break gracefully\n",
    "                if cv2.waitKey(15) & 0xFF == ord('q'):\n",
    "                    break\n",
    "\n",
    "cap.release()\n",
    "cv2.destroyAllWindows()\n",
    "for frame_num in range(3):\n",
    "    res = np.load(os.path.join('test', \"{}.npy\".format(frame_num)))\n",
    "    #print(np.array(res).size)\n",
    "    sequence.append(res)\n",
    "    #print(window)\n",
    "\n",
    "#print(sequences)\n",
    "\n",
    "res = model.predict(np.expand_dims(sequence, axis=0))[0]\n",
    "print(actions[np.argmax(res)])\n",
    "predictions.append(np.argmax(res))\n",
    "\n"
   ]
  },
  {
   "cell_type": "code",
   "execution_count": 1,
   "metadata": {},
   "outputs": [
    {
     "ename": "NameError",
     "evalue": "name 'cv2' is not defined",
     "output_type": "error",
     "traceback": [
      "\u001b[1;31m---------------------------------------------------------------------------\u001b[0m",
      "\u001b[1;31mNameError\u001b[0m                                 Traceback (most recent call last)",
      "\u001b[1;32m<ipython-input-1-c3b0199ebe73>\u001b[0m in \u001b[0;36m<module>\u001b[1;34m\u001b[0m\n\u001b[0;32m      4\u001b[0m \u001b[0mthreshold\u001b[0m \u001b[1;33m=\u001b[0m \u001b[1;36m0.8\u001b[0m\u001b[1;33m\u001b[0m\u001b[1;33m\u001b[0m\u001b[0m\n\u001b[0;32m      5\u001b[0m \u001b[0mx\u001b[0m\u001b[1;33m=\u001b[0m\u001b[1;36m0\u001b[0m\u001b[1;33m\u001b[0m\u001b[1;33m\u001b[0m\u001b[0m\n\u001b[1;32m----> 6\u001b[1;33m \u001b[0mcap\u001b[0m \u001b[1;33m=\u001b[0m \u001b[0mcv2\u001b[0m\u001b[1;33m.\u001b[0m\u001b[0mVideoCapture\u001b[0m\u001b[1;33m(\u001b[0m\u001b[1;34m'birthday.mp4'\u001b[0m\u001b[1;33m)\u001b[0m\u001b[1;33m\u001b[0m\u001b[1;33m\u001b[0m\u001b[0m\n\u001b[0m\u001b[0;32m      7\u001b[0m \u001b[0mprint\u001b[0m\u001b[1;33m(\u001b[0m\u001b[0mcap\u001b[0m\u001b[1;33m)\u001b[0m\u001b[1;33m\u001b[0m\u001b[1;33m\u001b[0m\u001b[0m\n\u001b[0;32m      8\u001b[0m \u001b[1;31m# Set mediapipe model\u001b[0m\u001b[1;33m\u001b[0m\u001b[1;33m\u001b[0m\u001b[1;33m\u001b[0m\u001b[0m\n",
      "\u001b[1;31mNameError\u001b[0m: name 'cv2' is not defined"
     ]
    }
   ],
   "source": [
    "# sequence = []\n",
    "# sentence = []\n",
    "# predictions = []\n",
    "# threshold = 0.8\n",
    "# x=0\n",
    "# cap = cv2.VideoCapture('birthday.mp4')\n",
    "# print(cap)\n",
    "# # Set mediapipe model \n",
    "# with mp_holistic.Holistic(min_detection_confidence=0.5, min_tracking_confidence=0.5) as holistic:\n",
    "    \n",
    "#     for seq in range(3):\n",
    "#         for frame_num in range(20):\n",
    "\n",
    "#             # Read feed\n",
    "\n",
    "#             ret, frame = cap.read()\n",
    "#             if ret == True:\n",
    "\n",
    "\n",
    "#                 # Make detections\n",
    "#                 #frame= imutils.resize(frame, width=920, height=920)\n",
    "#                 image, results = mediapipe_detection(frame, holistic)\n",
    "#         #         print(results)\n",
    "                \n",
    "#                 # 2. Prediction logic\n",
    "#                 keypoints = extract_keypoints(results)\n",
    "#                 sequence.append(keypoints)\n",
    "\n",
    "\n",
    "#                 if len(sequence) == 3:\n",
    "#                     res = model.predict(np.expand_dims(sequence, axis=0))[0]\n",
    "#                     print(actions[np.argmax(res)])\n",
    "#                     predictions.append(np.argmax(res))\n",
    "#                     #break\n",
    "\n",
    "#                 #3. Viz logic\n",
    "#                     if np.unique(predictions[-10:])[0]==np.argmax(res): \n",
    "#                         if res[np.argmax(res)] > threshold: \n",
    "\n",
    "#                             if len(sentence) > 0: \n",
    "#                                 if actions[np.argmax(res)] != sentence[-1]:\n",
    "#                                     sentence.append(actions[np.argmax(res)])\n",
    "#                             else:\n",
    "#                                 sentence.append(actions[np.argmax(res)])\n",
    "\n",
    "#                     if len(sentence) > 5: \n",
    "#                         sentence = sentence[-5:]\n",
    "\n",
    "#                     # Viz probabilities\n",
    "#                     #image = prob_viz(res, actions, image, colors)\n",
    "\n",
    "#                 cv2.rectangle(image, (0,0), (640, 40), (245, 117, 16), -1)\n",
    "#                 cv2.putText(image, ' '.join(sentence), (3,30), \n",
    "#                                cv2.FONT_HERSHEY_SIMPLEX, 1, (255, 255, 255), 2, cv2.LINE_AA)\n",
    "#                 cv2.putText(image, 'Collecting frames for {}'.format(seq), (25,32), \n",
    "#                                                    cv2.FONT_HERSHEY_SIMPLEX, 0.5, (0, 0, 255), 1, cv2.LINE_AA)\n",
    "\n",
    "#                 # Show to screenq\n",
    "#                 cv2.imshow('OpenCV Feed', image)\n",
    "\n",
    "#                 # Break gracefully\n",
    "#                 if cv2.waitKey(1) & 0xFF == ord('q'):\n",
    "#                     break\n",
    "\n",
    "#             else:\n",
    "#                 break\n",
    "\n",
    "#         cap.release()\n",
    "#         cv2.destroyAllWindows()"
   ]
  },
  {
   "cell_type": "code",
   "execution_count": 37,
   "metadata": {
    "scrolled": true
   },
   "outputs": [
    {
     "name": "stdout",
     "output_type": "stream",
     "text": [
      "<VideoCapture 00000298D68104F0>\n",
      "Birthday\n",
      "Birthday\n",
      "Birthday\n",
      "Birthday\n",
      "Birthday\n",
      "Birthday\n",
      "Birthday\n",
      "Birthday\n",
      "Birthday\n",
      "Birthday\n",
      "Birthday\n",
      "Birthday\n",
      "Birthday\n",
      "Birthday\n",
      "Birthday\n",
      "Birthday\n",
      "Birthday\n",
      "Birthday\n"
     ]
    }
   ],
   "source": [
    "sequence = []\n",
    "sentence = []\n",
    "predictions = []\n",
    "threshold = 0.8\n",
    "x=0\n",
    "cap = cv2.VideoCapture('birthday.mp4')\n",
    "print(cap)\n",
    "# Set mediapipe model \n",
    "with mp_holistic.Holistic(min_detection_confidence=0.5, min_tracking_confidence=0.5) as holistic:\n",
    "    \n",
    "    for seq in range(3):\n",
    "        for frame_num in range(20):\n",
    "\n",
    "            # Read feed\n",
    "\n",
    "            ret, frame = cap.read()\n",
    "            if ret == True:\n",
    "\n",
    "\n",
    "                # Make detections\n",
    "                #frame= imutils.resize(frame, width=920, height=920)\n",
    "                image, results = mediapipe_detection(frame, holistic)\n",
    "        #         print(results)\n",
    "                \n",
    "                # 2. Prediction logic\n",
    "                keypoints = extract_keypoints(results)\n",
    "                sequence.append(keypoints)\n",
    "                sequence = sequence[-3:]\n",
    "\n",
    "                if len(sequence) == 3:\n",
    "                    res = model.predict(np.expand_dims(sequence, axis=0))[0]\n",
    "                    print(actions[np.argmax(res)])\n",
    "                    predictions.append(np.argmax(res))\n",
    "                    #break\n",
    "\n",
    "                #3. Viz logic\n",
    "                    if np.unique(predictions[-10:])[0]==np.argmax(res): \n",
    "                        if res[np.argmax(res)] > threshold: \n",
    "\n",
    "                            if len(sentence) > 0: \n",
    "                                if actions[np.argmax(res)] != sentence[-1]:\n",
    "                                    sentence.append(actions[np.argmax(res)])\n",
    "                            else:\n",
    "                                sentence.append(actions[np.argmax(res)])\n",
    "\n",
    "                    if len(sentence) > 5: \n",
    "                        sentence = sentence[-5:]\n",
    "\n",
    "                    # Viz probabilities\n",
    "                    #image = prob_viz(res, actions, image, colors)\n",
    "\n",
    "                cv2.rectangle(image, (0,0), (640, 40), (245, 117, 16), -1)\n",
    "                cv2.putText(image, ' '.join(sentence), (3,30), \n",
    "                               cv2.FONT_HERSHEY_SIMPLEX, 1, (255, 255, 255), 2, cv2.LINE_AA)\n",
    "                cv2.putText(image, 'Collecting frames for {}'.format(seq), (25,32), \n",
    "                                                   cv2.FONT_HERSHEY_SIMPLEX, 0.5, (0, 0, 255), 1, cv2.LINE_AA)\n",
    "\n",
    "                # Show to screenq\n",
    "                cv2.imshow('OpenCV Feed', image)\n",
    "\n",
    "                # Break gracefully\n",
    "                if cv2.waitKey(1) & 0xFF == ord('q'):\n",
    "                    break\n",
    "\n",
    "            else:\n",
    "                break\n",
    "\n",
    "        cap.release()\n",
    "        cv2.destroyAllWindows()"
   ]
  },
  {
   "cell_type": "code",
   "execution_count": 74,
   "metadata": {},
   "outputs": [],
   "source": [
    "# # 1. New detection variables\n",
    "# sequence = []\n",
    "# sentence = []\n",
    "# predictions = []\n",
    "# threshold = 0.8\n",
    "\n",
    "# cap = cv2.VideoCapture(0)\n",
    "# # Set mediapipe model \n",
    "# with mp_holistic.Holistic(min_detection_confidence=0.5, min_tracking_confidence=0.5) as holistic:\n",
    "#     while cap.isOpened():\n",
    "\n",
    "#         # Read feed\n",
    "        \n",
    "#         ret, frame = cap.read()\n",
    "#         cv2.waitKey(500)\n",
    "#         # Make detections\n",
    "#         #frame= imutils.resize(frame, width=920, height=920)\n",
    "#         image, results = mediapipe_detection(frame, holistic)\n",
    "#         print(results)\n",
    "        \n",
    "#         # Draw landmarks\n",
    "#         draw_styled_landmarks(image, results)\n",
    "        \n",
    "#         # 2. Prediction logic\n",
    "#         keypoints = extract_keypoints(results)\n",
    "#         sequence.append(keypoints)\n",
    "#         sequence = sequence[-5:]\n",
    "        \n",
    "#         if len(sequence) == 3:\n",
    "#             res = model.predict(np.expand_dims(sequence, axis=0))[0]\n",
    "#             print(actions[np.argmax(res)])\n",
    "#             predictions.append(np.argmax(res))\n",
    "            \n",
    "            \n",
    "#         #3. Viz logic\n",
    "#             if np.unique(predictions[-10:])[0]==np.argmax(res): \n",
    "#                 if res[np.argmax(res)] > threshold: \n",
    "                    \n",
    "#                     if len(sentence) > 0: \n",
    "#                         if actions[np.argmax(res)] != sentence[-1]:\n",
    "#                             sentence.append(actions[np.argmax(res)])\n",
    "#                     else:\n",
    "#                         sentence.append(actions[np.argmax(res)])\n",
    "\n",
    "#             if len(sentence) > 3: \n",
    "#                 sentence = sentence[-3:]\n",
    "\n",
    "#             # Viz probabilities\n",
    "#             #image = prob_viz(res, actions, image, colors)\n",
    "            \n",
    "#         cv2.rectangle(image, (0,0), (640, 40), (245, 117, 16), -1)\n",
    "#         cv2.putText(image, ' '.join(sentence), (3,30), \n",
    "#                        cv2.FONT_HERSHEY_SIMPLEX, 1, (255, 255, 255), 2, cv2.LINE_AA)\n",
    "#         cv2.putText(image, 'Collecting frames for {}'.format(len(sequence)), (25,32), \n",
    "#                                            cv2.FONT_HERSHEY_SIMPLEX, 0.5, (0, 0, 255), 1, cv2.LINE_AA)\n",
    "        \n",
    "#         # Show to screenq\n",
    "#         cv2.imshow('OpenCV Feed', image)\n",
    "\n",
    "#         # Break gracefully\n",
    "#         if cv2.waitKey(1) & 0xFF == ord('q'):\n",
    "#             break\n",
    "#     cap.release()\n",
    "#     cv2.destroyAllWindows()"
   ]
  },
  {
   "cell_type": "code",
   "execution_count": null,
   "metadata": {},
   "outputs": [],
   "source": [
    "cap.release()\n",
    "cv2.destroyAllWindows()"
   ]
  },
  {
   "cell_type": "code",
   "execution_count": 76,
   "metadata": {},
   "outputs": [
    {
     "data": {
      "text/plain": [
       "True"
      ]
     },
     "execution_count": 76,
     "metadata": {},
     "output_type": "execute_result"
    }
   ],
   "source": [
    "res[np.argmax(res)] > threshold"
   ]
  },
  {
   "cell_type": "code",
   "execution_count": 78,
   "metadata": {},
   "outputs": [
    {
     "data": {
      "text/plain": [
       "(60, 18, 1662)"
      ]
     },
     "execution_count": 78,
     "metadata": {},
     "output_type": "execute_result"
    }
   ],
   "source": [
    "(60,18,1662)"
   ]
  },
  {
   "cell_type": "code",
   "execution_count": 79,
   "metadata": {},
   "outputs": [
    {
     "data": {
      "text/plain": [
       "array([[7.1993120e-11, 1.4309568e-29, 9.9994814e-01, 4.1384763e-30,\n",
       "        5.1894232e-05, 3.3388570e-16]], dtype=float32)"
      ]
     },
     "execution_count": 79,
     "metadata": {},
     "output_type": "execute_result"
    }
   ],
   "source": [
    "model.predict(np.expand_dims(X_test[0], axis=0))"
   ]
  },
  {
   "cell_type": "code",
   "execution_count": null,
   "metadata": {},
   "outputs": [],
   "source": []
  }
 ],
 "metadata": {
  "kernelspec": {
   "display_name": "Python 3",
   "language": "python",
   "name": "python3"
  },
  "language_info": {
   "codemirror_mode": {
    "name": "ipython",
    "version": 3
   },
   "file_extension": ".py",
   "mimetype": "text/x-python",
   "name": "python",
   "nbconvert_exporter": "python",
   "pygments_lexer": "ipython3",
   "version": "3.8.8"
  }
 },
 "nbformat": 4,
 "nbformat_minor": 2
}
